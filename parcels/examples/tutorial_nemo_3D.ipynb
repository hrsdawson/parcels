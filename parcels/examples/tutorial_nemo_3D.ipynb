{
 "cells": [
  {
   "cell_type": "markdown",
   "metadata": {},
   "source": [
    "## Tutorial on how to use Parcels on 3D C grids"
   ]
  },
  {
   "cell_type": "markdown",
   "metadata": {},
   "source": [
    "Parcels enables to interpolate field data discretised on a C grid.\n",
    "C grids are very popular in OGCMs such that velocity fields resulting from those models are often provided on such grids, except if they have been firstly re-interpolated on a A grid.\n",
    "\n",
    "More information about C-grid interpolation can be found in [Delandmeter et al., 2019](https://www.geosci-model-dev-discuss.net/gmd-2018-339/).\n",
    "An example of such a discretisation is the model NEMO, which is largely used by Parcels. A tutorial teaching how to [interpolate 2D data on a NEMO grid](https://nbviewer.jupyter.org/github/OceanParcels/parcels/blob/master/parcels/examples/tutorial_nemo_curvilinear.ipynb) is available within Parcels.\n",
    "\n",
    "Here, we focus on 3D fields. Basically, it is a straightforward extension of the 2D example, but it is very easy to do a mistake in the setup of the vertical discretisation that would affect the interpolation scheme.\n",
    "\n",
    "### Preliminary comments\n",
    "\n",
    "*How to know if your data is discretised on a C grid?* The best way is to read the documentation coming along with the data. An easy check is also assess the coordinates of the U, V and W fields: for an A grid, U, V and W are distributed on the same nodes, such that the coordinates are the same. For a C grid, there is a shift of half a cell between the different variables.\n",
    "\n",
    "*What about grid indexing?* Since the C-grid variables are not located on the same nodes, there is not one obvious way to define the indexing, i.e. where is `u[k,j,i]` compared to `v[k,j,i]` and `w[k,j,i]`. In Parcels, we use the same notation as in NEMO: see [horizontal indexing](https://www.nemo-ocean.eu/doc/img360.png) and [vertical indexing](https://www.nemo-ocean.eu/doc/img362.png).\n",
    "It is important that you check if your data is following the same notation. Otherwise, you should re-index your data properly (this can be done within Parcels, there is no need to regenerate new netcdf files).\n"
   ]
  },
  {
   "cell_type": "code",
   "execution_count": 1,
   "metadata": {},
   "outputs": [
    {
     "name": "stderr",
     "output_type": "stream",
     "text": [
      "WARNING: File /Users/delandmeter/data/NEMO-MEDUSA/ORCA025-N006/domain/coordinates.nc could not be decoded properly by xarray (version 0.11.0).\n",
      "         It will be opened with no decoding. Filling values might be wrongly parsed.\n",
      "WARNING: Casting lon data to np.float32\n",
      "WARNING: Casting lat data to np.float32\n",
      "WARNING: Note that positive vertical velocity is assumed DOWNWARD by AdvectionRK4_3D\n",
      "INFO: Compiled JITParticleAdvectionRK4_3D ==> /var/folders/h0/01fvrmn11qb62yjw7v1kn62r0000gq/T/parcels-503/8fadc5f90ac9c8f394335371ca1f401a.so\n",
      "100% (1296000.0 of 1296000.0) |##########| Elapsed Time: 0:00:12 Time:  0:00:12\n"
     ]
    },
    {
     "name": "stdout",
     "output_type": "stream",
     "text": [
      "P[0](lon=3.695555, lat=51.971939, depth=0.467862, time=1296000.000000)\n",
      "P[1](lon=3.828294, lat=52.013317, depth=0.350941, time=1296000.000000)\n",
      "P[2](lon=3.930110, lat=52.028423, depth=0.340018, time=1296000.000000)\n",
      "P[3](lon=3.968106, lat=52.033142, depth=0.286998, time=1296000.000000)\n",
      "P[4](lon=4.013868, lat=52.008968, depth=0.272774, time=1296000.000000)\n",
      "P[5](lon=3.664367, lat=51.980835, depth=0.580458, time=1296000.000000)\n",
      "P[6](lon=3.775796, lat=52.016319, depth=0.373643, time=1296000.000000)\n",
      "P[7](lon=3.920011, lat=52.047493, depth=0.357648, time=1296000.000000)\n",
      "P[8](lon=3.960804, lat=52.066895, depth=0.271179, time=1296000.000000)\n",
      "P[9](lon=4.019048, lat=52.068531, depth=0.244559, time=1296000.000000)\n",
      "P[10](lon=3.658056, lat=52.010090, depth=0.679452, time=1296000.000000)\n",
      "P[11](lon=3.761564, lat=52.022896, depth=0.422852, time=1296000.000000)\n",
      "P[12](lon=3.885614, lat=52.059116, depth=0.365956, time=1296000.000000)\n",
      "P[13](lon=3.955304, lat=52.086990, depth=0.280503, time=1296000.000000)\n",
      "P[14](lon=4.011897, lat=52.104069, depth=0.236505, time=1296000.000000)\n",
      "P[15](lon=3.655118, lat=52.059788, depth=0.766759, time=1296000.000000)\n",
      "P[16](lon=3.730041, lat=52.038311, depth=0.521846, time=1296000.000000)\n",
      "P[17](lon=3.833726, lat=52.054634, depth=0.449349, time=1296000.000000)\n",
      "P[18](lon=3.942068, lat=52.101887, depth=0.288547, time=1296000.000000)\n",
      "P[19](lon=4.006797, lat=52.132870, depth=0.240556, time=1296000.000000)\n",
      "P[20](lon=3.666031, lat=52.105858, depth=0.814921, time=1296000.000000)\n",
      "P[21](lon=3.713551, lat=52.065182, depth=0.663926, time=1296000.000000)\n",
      "P[22](lon=3.797593, lat=52.066071, depth=0.536620, time=1296000.000000)\n",
      "P[23](lon=3.902491, lat=52.101009, depth=0.413376, time=1296000.000000)\n",
      "P[24](lon=3.992380, lat=52.141289, depth=0.242895, time=1296000.000000)\n"
     ]
    }
   ],
   "source": [
    "from parcels import FieldSet, ParticleSet, JITParticle, AdvectionRK4_3D\n",
    "from glob import glob\n",
    "import numpy as np\n",
    "from datetime import timedelta as delta\n",
    "from os import path\n",
    "\n",
    "# data_path = path.join(path.dirname(__file__), 'NemoCurvilinear_data/')\n",
    "data_dir = '/Users/delandmeter/data/NEMO-MEDUSA/ORCA025-N006/'\n",
    "ufiles = sorted(glob(data_dir+'means/ORCA025-N06_200001??d05U.nc'))\n",
    "vfiles = sorted(glob(data_dir+'means/ORCA025-N06_200001??d05V.nc'))\n",
    "wfiles = sorted(glob(data_dir+'means/ORCA025-N06_200001??d05W.nc'))\n",
    "mesh_mask = data_dir + 'domain/coordinates.nc'\n",
    "\n",
    "filenames = {'U': {'lon': mesh_mask, 'lat': mesh_mask, 'depth': wfiles[0], 'data': ufiles},\n",
    "             'V': {'lon': mesh_mask, 'lat': mesh_mask, 'depth': wfiles[0], 'data': vfiles},\n",
    "             'W': {'lon': mesh_mask, 'lat': mesh_mask, 'depth': wfiles[0], 'data': wfiles}}\n",
    "\n",
    "variables = {'U': 'uo',\n",
    "             'V': 'vo',\n",
    "             'W': 'wo'}\n",
    "dimensions = {'U': {'lon': 'glamf', 'lat': 'gphif', 'depth': 'depthw', 'time': 'time_counter'},\n",
    "              'V': {'lon': 'glamf', 'lat': 'gphif', 'depth': 'depthw', 'time': 'time_counter'},\n",
    "              'W': {'lon': 'glamf', 'lat': 'gphif', 'depth': 'depthw', 'time': 'time_counter'}}\n",
    "\n",
    "fieldset = FieldSet.from_nemo(filenames, variables, dimensions)\n",
    "fieldset.U.vmax = 5\n",
    "fieldset.V.vmax = 5\n",
    "fieldset.W.vmax = 5\n",
    "\n",
    "# meshgrid containing 5x5 points uniformly distributed in a [0,1]x[0,1] quad\n",
    "vec = np.linspace(0, 1, 5)\n",
    "xsi, eta = np.meshgrid(vec, vec)\n",
    "\n",
    "# get particles in Rhine estuary\n",
    "lonCorners = [2.96824026, 3.22713804, 3.26175451, 3.002671]\n",
    "latCorners = [51.60693741, 51.58454132, 51.73711395, 51.759758]\n",
    "lon_r = (1-xsi)*(1-eta) * lonCorners[0] + xsi*(1-eta) * lonCorners[1] + \\\n",
    "        xsi*eta * lonCorners[2] + (1-xsi)*eta * lonCorners[3]\n",
    "lat_r = (1-xsi)*(1-eta) * latCorners[0] + xsi*(1-eta) * latCorners[1] + \\\n",
    "        xsi*eta * latCorners[2] + (1-xsi)*eta * latCorners[3]\n",
    "\n",
    "lonp = lon_r.flatten()\n",
    "latp = lat_r.flatten()\n",
    "depthp = np.ones(latp.shape)\n",
    "\n",
    "pset = ParticleSet.from_list(fieldset, JITParticle, lon=lonp, lat=latp, depth=depthp)\n",
    "kernels = pset.Kernel(AdvectionRK4_3D)\n",
    "pset.execute(kernels, runtime=delta(days=15), dt=delta(hours=6))\n",
    "\n",
    "for p in pset:\n",
    "    print(p)\n"
   ]
  },
  {
   "cell_type": "code",
   "execution_count": null,
   "metadata": {},
   "outputs": [],
   "source": []
  }
 ],
 "metadata": {
  "kernelspec": {
   "display_name": "Python 2",
   "language": "python",
   "name": "python2"
  },
  "language_info": {
   "codemirror_mode": {
    "name": "ipython",
    "version": 2
   },
   "file_extension": ".py",
   "mimetype": "text/x-python",
   "name": "python",
   "nbconvert_exporter": "python",
   "pygments_lexer": "ipython2",
   "version": "2.7.15"
  }
 },
 "nbformat": 4,
 "nbformat_minor": 1
}
