{
 "cells": [
  {
   "cell_type": "markdown",
   "metadata": {},
   "source": [
    "## Tutorial on how to use Parcels on 3D C grids"
   ]
  },
  {
   "cell_type": "markdown",
   "metadata": {},
   "source": [
    "One of the features of Parcels is that it can directly and natively work with `Field` data discretised on C-grids. These C grids are very popular in OGCMs, so velocity fields outputted by OGCMs are often provided on such grids, except if they have been firstly re-interpolated on a A grid.\n",
    "\n",
    "More information about C-grid interpolation can be found in [Delandmeter et al., 2019](https://www.geosci-model-dev-discuss.net/gmd-2018-339/).\n",
    "An example of such a discretisation is the NEMO model, which is one of the models supported in Parcels. A tutorial teaching how to [interpolate 2D data on a NEMO grid](https://nbviewer.jupyter.org/github/OceanParcels/parcels/blob/master/parcels/examples/tutorial_nemo_curvilinear.ipynb) is available within Parcels.\n",
    "\n",
    "Here, we focus on 3D fields. Basically, it is a straightforward extension of the 2D example, but it is very easy to do a mistake in the setup of the vertical discretisation that would affect the interpolation scheme.\n",
    "\n",
    "### Preliminary comments\n",
    "\n",
    "*How to know if your data is discretised on a C grid?* The best way is to read the documentation that comes with the data. Alternatively, an easy check is to assess the coordinates of the U, V and W fields: for an A grid, U, V and W are distributed on the same nodes, such that the coordinates are the same. For a C grid, there is a shift of half a cell between the different variables.\n",
    "\n",
    "*What about grid indexing?* Since the C-grid variables are not located on the same nodes, there is not one obvious way to define the indexing, i.e. where is `u[k,j,i]` compared to `v[k,j,i]` and `w[k,j,i]`. In Parcels, we use the same notation as in NEMO: see [horizontal indexing](https://www.nemo-ocean.eu/doc/img360.png) and [vertical indexing](https://www.nemo-ocean.eu/doc/img362.png).\n",
    "It is important that you check if your data is following the same notation. Otherwise, you should re-index your data properly (this can be done within Parcels, there is no need to regenerate new netcdf files).\n",
    "\n",
    "### How to create a 3D NEMO `dimensions` dictionary?\n",
    "\n",
    "In the following, we will show how to create the `dimensions` dictionary for 3D NEMO simulations. What you require is a 'mesh_mask' file, which in our case is called `coordinates.nc` but in some other versions of NEMO has a different name. In any case, it will have to contain the variables `glamf`, `gphif` and `depthw`, which are ***EXPLAIN WHAT VARIABLES ARE*** respectively. Note that `depthw` is not part of the mesh_mask file, but is in the same file as the w data (`wfiles`).\n",
    "\n",
    "For the C-grid interpolation in Parcels to work properly, it is important that `U`, `V` and `W` are on the same grid.\n",
    "\n",
    "The code below is an example of how to create a3D simulation with particles, starting in the mouth of the river Rhine, and advecting them through the North Sea using the `AdvectionRK4_3D`"
   ]
  },
  {
   "cell_type": "code",
   "execution_count": 1,
   "metadata": {},
   "outputs": [
    {
     "name": "stderr",
     "output_type": "stream",
     "text": [
      "WARNING: File /Users/delandmeter/sources/oceanparcels_website/examples-data/NemoNorthSeaORCA025-N006_data/coordinates.nc could not be decoded properly by xarray (version 0.11.0).\n",
      "         It will be opened with no decoding. Filling values might be wrongly parsed.\n",
      "WARNING: Casting lon data to np.float32\n",
      "WARNING: Casting lat data to np.float32\n",
      "WARNING: Note that positive vertical velocity is assumed DOWNWARD by AdvectionRK4_3D\n",
      "INFO: Compiled JITParticleAdvectionRK4_3D ==> /var/folders/h0/01fvrmn11qb62yjw7v1kn62r0000gq/T/parcels-503/0e69c0fcf2d0206b75ee09df2079b491.so\n"
     ]
    },
    {
     "name": "stdout",
     "output_type": "stream",
     "text": [
      "P[0](lon=3.330627, lat=51.771065, depth=1.013004, time=345600.000000)\n",
      "P[1](lon=3.429670, lat=51.770466, depth=0.942356, time=345600.000000)\n",
      "P[2](lon=3.516687, lat=51.766171, depth=0.902212, time=345600.000000)\n",
      "P[3](lon=3.587906, lat=51.770084, depth=0.824910, time=345600.000000)\n",
      "P[4](lon=3.638291, lat=51.767937, depth=0.761362, time=345600.000000)\n",
      "P[5](lon=3.326173, lat=51.803127, depth=1.002215, time=345600.000000)\n",
      "P[6](lon=3.420991, lat=51.801682, depth=0.919173, time=345600.000000)\n",
      "P[7](lon=3.510124, lat=51.798275, depth=0.876406, time=345600.000000)\n",
      "P[8](lon=3.585248, lat=51.807373, depth=0.806789, time=345600.000000)\n",
      "P[9](lon=3.641669, lat=51.818974, depth=0.737283, time=345600.000000)\n",
      "P[10](lon=3.332299, lat=51.836002, depth=0.991055, time=345600.000000)\n",
      "P[11](lon=3.423283, lat=51.833839, depth=0.907191, time=345600.000000)\n",
      "P[12](lon=3.503452, lat=51.829502, depth=0.849505, time=345600.000000)\n",
      "P[13](lon=3.580498, lat=51.837696, depth=0.792666, time=345600.000000)\n",
      "P[14](lon=3.645211, lat=51.862221, depth=0.726525, time=345600.000000)\n",
      "P[15](lon=3.351479, lat=51.872242, depth=0.970860, time=345600.000000)\n",
      "P[16](lon=3.425382, lat=51.865955, depth=0.895562, time=345600.000000)\n",
      "P[17](lon=3.499724, lat=51.860241, depth=0.837238, time=345600.000000)\n",
      "P[18](lon=3.576936, lat=51.867104, depth=0.776531, time=345600.000000)\n",
      "P[19](lon=3.656613, lat=51.897182, depth=0.721150, time=345600.000000)\n",
      "P[20](lon=3.356107, lat=51.907131, depth=0.997156, time=345600.000000)\n",
      "P[21](lon=3.425848, lat=51.899635, depth=0.932838, time=345600.000000)\n",
      "P[22](lon=3.496043, lat=51.892582, depth=0.865501, time=345600.000000)\n",
      "P[23](lon=3.567592, lat=51.888668, depth=0.809955, time=345600.000000)\n",
      "P[24](lon=3.654462, lat=51.919956, depth=0.713223, time=345600.000000)\n"
     ]
    }
   ],
   "source": [
    "from parcels import FieldSet, ParticleSet, JITParticle, AdvectionRK4_3D\n",
    "from glob import glob\n",
    "import numpy as np\n",
    "from datetime import timedelta as delta\n",
    "from os import path\n",
    "\n",
    "data_path = 'NemoNorthSeaORCA025-N006_data/'\n",
    "ufiles = sorted(glob(data_path+'ORCA025-N06_200001??d05U.nc'))\n",
    "vfiles = sorted(glob(data_path+'ORCA025-N06_200001??d05V.nc'))\n",
    "wfiles = sorted(glob(data_path+'ORCA025-N06_200001??d05W.nc'))\n",
    "mesh_mask = data_path + 'coordinates.nc'\n",
    "\n",
    "filenames = {'U': {'lon': mesh_mask, 'lat': mesh_mask, 'depth': wfiles[0], 'data': ufiles},\n",
    "             'V': {'lon': mesh_mask, 'lat': mesh_mask, 'depth': wfiles[0], 'data': vfiles},\n",
    "             'W': {'lon': mesh_mask, 'lat': mesh_mask, 'depth': wfiles[0], 'data': wfiles}}\n",
    "\n",
    "variables = {'U': 'uo',\n",
    "             'V': 'vo',\n",
    "             'W': 'wo'}\n",
    "dimensions = {'U': {'lon': 'glamf', 'lat': 'gphif', 'depth': 'depthw', 'time': 'time_counter'},\n",
    "              'V': {'lon': 'glamf', 'lat': 'gphif', 'depth': 'depthw', 'time': 'time_counter'},\n",
    "              'W': {'lon': 'glamf', 'lat': 'gphif', 'depth': 'depthw', 'time': 'time_counter'}}\n",
    "\n",
    "fieldset = FieldSet.from_nemo(filenames, variables, dimensions)\n",
    "fieldset.U.vmax = 5\n",
    "fieldset.V.vmax = 5\n",
    "fieldset.W.vmax = 5\n",
    "\n",
    "# meshgrid containing 5x5 points uniformly distributed in a [0,1]x[0,1] quad\n",
    "vec = np.linspace(0, 1, 5)\n",
    "xsi, eta = np.meshgrid(vec, vec)\n",
    "\n",
    "# get particles in Rhine estuary\n",
    "lonCorners = [2.96824026, 3.22713804, 3.26175451, 3.002671]\n",
    "latCorners = [51.60693741, 51.58454132, 51.73711395, 51.759758]\n",
    "lon_r = (1-xsi)*(1-eta) * lonCorners[0] + xsi*(1-eta) * lonCorners[1] + \\\n",
    "        xsi*eta * lonCorners[2] + (1-xsi)*eta * lonCorners[3]\n",
    "lat_r = (1-xsi)*(1-eta) * latCorners[0] + xsi*(1-eta) * latCorners[1] + \\\n",
    "        xsi*eta * latCorners[2] + (1-xsi)*eta * latCorners[3]\n",
    "\n",
    "lonp = lon_r.flatten()\n",
    "latp = lat_r.flatten()\n",
    "depthp = np.ones(latp.shape)\n",
    "\n",
    "pset = ParticleSet.from_list(fieldset, JITParticle, lon=lonp, lat=latp, depth=depthp)\n",
    "kernels = pset.Kernel(AdvectionRK4_3D)\n",
    "pset.execute(kernels, runtime=delta(days=4), dt=delta(hours=6))\n",
    "\n",
    "for p in pset:\n",
    "    print(p)\n"
   ]
  }
 ],
 "metadata": {
  "kernelspec": {
   "display_name": "Python 2",
   "language": "python",
   "name": "python2"
  },
  "language_info": {
   "codemirror_mode": {
    "name": "ipython",
    "version": 2
   },
   "file_extension": ".py",
   "mimetype": "text/x-python",
   "name": "python",
   "nbconvert_exporter": "python",
   "pygments_lexer": "ipython3",
   "version": "3.6.4"
  }
 },
 "nbformat": 4,
 "nbformat_minor": 1
}
