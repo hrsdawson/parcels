{
 "cells": [
  {
   "cell_type": "markdown",
   "metadata": {
    "deletable": true,
    "editable": true
   },
   "source": [
    "## Tutorial on how to 'delay' the start of particle advection"
   ]
  },
  {
   "cell_type": "markdown",
   "metadata": {
    "deletable": true,
    "editable": true
   },
   "source": [
    "In many applications, it is needed to 'delay' the start of particle advection. For example because particles need to be released at different times throughout an experiment.\n",
    "\n",
    "The way to achieve this in Parcels is by using a combination of `pset.execute()` and `pset.add()` calls inside a `for`-loop.\n",
    "\n",
    "This tutorial will show how this can be done. We start with importing the relevant modules."
   ]
  },
  {
   "cell_type": "code",
   "execution_count": 1,
   "metadata": {
    "collapsed": true,
    "deletable": true,
    "editable": true
   },
   "outputs": [],
   "source": [
    "from parcels import FieldSet, ParticleSet, JITParticle, plotTrajectoriesFile, convert_IndexedOutputToArray\n",
    "from parcels import AdvectionRK4\n",
    "import numpy as np\n",
    "from datetime import timedelta as delta"
   ]
  },
  {
   "cell_type": "markdown",
   "metadata": {
    "deletable": true,
    "editable": true
   },
   "source": [
    "Now import a `FieldSet` (from the Peninsula example, in this case)"
   ]
  },
  {
   "cell_type": "code",
   "execution_count": 2,
   "metadata": {
    "collapsed": true,
    "deletable": true,
    "editable": true
   },
   "outputs": [],
   "source": [
    "fieldset = FieldSet.from_nemo('Peninsula_data/peninsula', allow_time_extrapolation = True)"
   ]
  },
  {
   "cell_type": "markdown",
   "metadata": {
    "deletable": true,
    "editable": true
   },
   "source": [
    "Define an empty `ParticleSet`"
   ]
  },
  {
   "cell_type": "code",
   "execution_count": 3,
   "metadata": {
    "collapsed": true,
    "deletable": true,
    "editable": true
   },
   "outputs": [],
   "source": [
    "pset = ParticleSet(fieldset=fieldset, lon=[], lat=[], pclass=JITParticle)"
   ]
  },
  {
   "cell_type": "markdown",
   "metadata": {
    "deletable": true,
    "editable": true
   },
   "source": [
    "And now also define some other variables"
   ]
  },
  {
   "cell_type": "code",
   "execution_count": 4,
   "metadata": {
    "collapsed": true,
    "deletable": true,
    "editable": true
   },
   "outputs": [],
   "source": [
    "npart = 10  # number of particles to be released\n",
    "delaytime = delta(hours=1)  # time between each particle release\n",
    "endtime = delta(hours=24)  # total time of the experiment"
   ]
  },
  {
   "cell_type": "markdown",
   "metadata": {
    "deletable": true,
    "editable": true
   },
   "source": [
    "We use the same start locations as in `examples/example_peninsula.py`"
   ]
  },
  {
   "cell_type": "code",
   "execution_count": 5,
   "metadata": {
    "collapsed": true,
    "deletable": true,
    "editable": true
   },
   "outputs": [],
   "source": [
    "x = 3. * (1. / 1.852 / 60)  # 3 km offset from boundary\n",
    "y = (fieldset.U.lat[0] + x, fieldset.U.lat[-1] - x)  # latitude range, including offsets\n",
    "lat = np.linspace(y[0], y[1], npart, dtype=np.float32)"
   ]
  },
  {
   "cell_type": "markdown",
   "metadata": {
    "deletable": true,
    "editable": true
   },
   "source": [
    "Now we define an output file. Note that, since not each particle will have the same number of timesteps outputted (because some will be released later than others), we need to run with `type=\"indexed\"`. See also H3.5 at http://cfconventions.org/Data/cf-conventions/cf-conventions-1.7/build/aphs03.html"
   ]
  },
  {
   "cell_type": "code",
   "execution_count": 6,
   "metadata": {
    "collapsed": true,
    "deletable": true,
    "editable": true
   },
   "outputs": [],
   "source": [
    "output_file = pset.ParticleFile(name=\"DelayParticle\", type=\"indexed\")"
   ]
  },
  {
   "cell_type": "markdown",
   "metadata": {
    "deletable": true,
    "editable": true
   },
   "source": [
    "Now we run the combination of `pset.add()` and `pset.execute()` calls inside a `for`-loop."
   ]
  },
  {
   "cell_type": "code",
   "execution_count": 7,
   "metadata": {
    "collapsed": false,
    "deletable": true,
    "editable": true
   },
   "outputs": [
    {
     "name": "stderr",
     "output_type": "stream",
     "text": [
      "INFO: Compiled JITParticleAdvectionRK4 ==> /var/folders/r2/8593q8z93kd7t4j9kbb_f7p00000gr/T/parcels-504/27805ff3aa34ba12ddb373f3f2cb1d1b.so\n"
     ]
    }
   ],
   "source": [
    "for t in range(npart):\n",
    "    pset.add(JITParticle(lon=x, lat=lat[t], fieldset=fieldset))\n",
    "    pset.execute(AdvectionRK4,\n",
    "                 runtime=delaytime,  # note we execute only for 1 hour\n",
    "                 dt=delta(minutes=5),\n",
    "                 interval=delaytime,\n",
    "                 starttime=delaytime*t,  # note starttime is an hour later for each execute\n",
    "                 output_file=output_file)"
   ]
  },
  {
   "cell_type": "markdown",
   "metadata": {
    "deletable": true,
    "editable": true
   },
   "source": [
    "And then we run the particles for the rest of the time until `endtime`"
   ]
  },
  {
   "cell_type": "code",
   "execution_count": 8,
   "metadata": {
    "collapsed": true,
    "deletable": true,
    "editable": true
   },
   "outputs": [],
   "source": [
    "pset.execute(AdvectionRK4, runtime=endtime-npart*delaytime,\n",
    "             starttime=delaytime*npart, dt=delta(minutes=5), interval=delta(hours=1),\n",
    "             output_file=output_file)"
   ]
  },
  {
   "cell_type": "markdown",
   "metadata": {
    "deletable": true,
    "editable": true
   },
   "source": [
    "And then finally, we can show a movie of the particles. Note that one particle appears every frame for the first ten frames."
   ]
  },
  {
   "cell_type": "code",
   "execution_count": 9,
   "metadata": {
    "collapsed": false,
    "deletable": true,
    "editable": true
   },
   "outputs": [
    {
     "data": {
      "text/html": [
       "<video width=\"432\" height=\"288\" controls autoplay loop>\n",
       "  <source type=\"video/mp4\" src=\"data:video/mp4;base64,AAAAHGZ0eXBNNFYgAAACAGlzb21pc28yYXZjMQAAAAhmcmVlAAAu921kYXQAAAKgBgX//5zcRem9\n",
       "5tlIt5Ys2CDZI+7veDI2NCAtIGNvcmUgMTQ4IC0gSC4yNjQvTVBFRy00IEFWQyBjb2RlYyAtIENv\n",
       "cHlsZWZ0IDIwMDMtMjAxNiAtIGh0dHA6Ly93d3cudmlkZW9sYW4ub3JnL3gyNjQuaHRtbCAtIG9w\n",
       "dGlvbnM6IGNhYmFjPTEgcmVmPTMgZGVibG9jaz0xOjA6MCBhbmFseXNlPTB4MzoweDExMyBtZT1o\n",
       "ZXggc3VibWU9NyBwc3k9MSBwc3lfcmQ9MS4wMDowLjAwIG1peGVkX3JlZj0xIG1lX3JhbmdlPTE2\n",
       "IGNocm9tYV9tZT0xIHRyZWxsaXM9MSA4eDhkY3Q9MSBjcW09MCBkZWFkem9uZT0yMSwxMSBmYXN0\n",
       "X3Bza2lwPTEgY2hyb21hX3FwX29mZnNldD0tMiB0aHJlYWRzPTYgbG9va2FoZWFkX3RocmVhZHM9\n",
       "MSBzbGljZWRfdGhyZWFkcz0wIG5yPTAgZGVjaW1hdGU9MSBpbnRlcmxhY2VkPTAgYmx1cmF5X2Nv\n",
       "bXBhdD0wIGNvbnN0cmFpbmVkX2ludHJhPTAgYmZyYW1lcz0zIGJfcHlyYW1pZD0yIGJfYWRhcHQ9\n",
       "MSBiX2JpYXM9MCBkaXJlY3Q9MSB3ZWlnaHRiPTEgb3Blbl9nb3A9MCB3ZWlnaHRwPTIga2V5aW50\n",
       "PTI1MCBrZXlpbnRfbWluPTEwIHNjZW5lY3V0PTQwIGludHJhX3JlZnJlc2g9MCByY19sb29rYWhl\n",
       "YWQ9NDAgcmM9Y3JmIG1idHJlZT0xIGNyZj0yMy4wIHFjb21wPTAuNjAgcXBtaW49MCBxcG1heD02\n",
       "OSBxcHN0ZXA9NCBpcF9yYXRpbz0xLjQwIGFxPTE6MS4wMACAAAALwGWIhAAQ//73gb8yy18iuslx\n",
       "+ed9LKzPPOQ8cl2JrrjQAAADAAzdiJ7g8K10PRXgACB3YTziHH/iASV/T3ainRhafzJYgEpYi3BD\n",
       "H8iNOSmFXxGN+Igqwn+wf8jAuL4yx6unN2AO7Zr5XpyFKjCWGcIq8QSkFJXWapCfcFlbq3Fquhh0\n",
       "o619Z3D4OuVi7rMXJsnhVy+wJn4M7ld36i6Pzu8uK9+GMA/C0fzRh5bcvBaYwdSXOea5XfCz8Qsr\n",
       "VjyHqNfcSwREN/rUEYjEQZKbP9dCFMh8Rn9LS3UomNKl8JsWSEpoytm3D89ksGdy8//qlxvvNo6o\n",
       "/M1QiBDwqxl/g7ZUBzWru1Zy9IvR7G2nkSdOuius7yrWBF8bDZPO3qEnoAAutnmIjcYLp4/AmUbZ\n",
       "jDmvPf0z3nwa4SOqfJqtD5I6pTLVdkJF6dXW9v6oshCMKQXsPkxNt+LeYe0oLDLwXEYXV4mYIjqx\n",
       "woVfwRsgAdBFTBiQWR5n5fdx68IzdvHqKEjj/sfVOtealKycVVtzClBfRazcL2ModMiDswbQF17v\n",
       "31bHynUyCjp0Q6Mr1WuO2c6j7JzRoJRDVJypU01KmSJOoHUUVtvnGSchnmF87tkJwlLUX4FDwVWH\n",
       "LIWdXBUMDLKJIPux9strgs8Rd2aHKf2QhNmXOodpyn8CSg9grY+siE7uNHYZaG4lzZTjdKPNiNzc\n",
       "l4rEQpSKU0ysAx2FdPa/aG55hZ5MRy2sVNiZDW0VPXXuQkFvWh54+5kFmIlyCusXA05LLLG/CQhr\n",
       "JFcTKbEvtHG/L2uR5IBQ0worh7xY9QeJXyRqfdxy92Dzx8rNjuObdYNU9oKx/FOugLFZ/ELYLOtM\n",
       "npDvwXCjRl6kCFI+qbgxpAL0MVdR78QZ8tpWOjBTAIgXXLKspxscKbWjQ2YlOo/I6Ll4U49pHQm4\n",
       "uIw7dDgElQZacLN5wfrHLQAGWs6ABk+8LAb7Y7LADy6YiZZLFOqfp7rxoogYbS6Xcl76GphDyJCf\n",
       "k2+ipZcfYnWbwKOX+td4omwaHvYfnRIgGmHVjGwiftJumWc+0HfJreUJp1FqVQ5CLGSLezOwWEVJ\n",
       "ltfwB/GQGOBJAE26JrjEXMzrG3MqWHIzWChRw3fsWmgnaX1QL9Fy/smQTJBhKe9jzjQqK5UCq0PG\n",
       "z3JXOX2hwq5ApXHIuFoOfZ19t1Nk4Bvh/Zpggb9zJ7xfkbHBXaij+NLrxRkV2NmxehyV3E4+GyyV\n",
       "Hh7t7vie00XZpU2j8673WbFBk8gjJhF7QZl/VpygEgUyHaVz2a8FpKqP/6wuN+Ne7KvPe2Su8Kuj\n",
       "y+FYkm5ytazj7jkJx0+GZISEKf129xPugtDYHS8cFNqtBvreb+zo6Qkg55Q15l5scGQ66LFFEim2\n",
       "eQ4CRM0ydSmWF+/AtEJCSV7oHwCxMTj9x7uJyYCeZMks8dSI8lGX//5RBKU4dm09FWyR5g/WFBWj\n",
       "aEFkZfEVORXgcR/7d5uI7eeax0w2VCspCB91DfF+hpSSdt2804mz8DmzloqViLiW/Vu5Cyd7jmaA\n",
       "LNDuvZaFrIJBIT0KSRePeN22huijRGr67muDTbxv+z67VMNIha55ljAEf/F1QTo8gTLDZTWXGMO2\n",
       "NNBpZTTmhAxc3mO9abEfxn1vDlpP4WKSw6rq8zPClStbQNwFqmHTmwCU+jIZsMY1oFy7owIORSxJ\n",
       "+BafWP/5e6cyVWQmihdWcoRxYLwfLVhmkmgdR4PKE5eY40OcFpvxsY+d8lWJrCbGv/t0g8KVR6jp\n",
       "bJLVkZCwTaoPIs9eyO6hJ70kIKM/KBC4C8SAn8Dge4X9F5QfhsDbCG0toWe9q1mYxv7Cm2RTyjNZ\n",
       "vbxgtTkaU3D0tuvOqtFuGF++c3hX0P334MzadNwTOwOWlhvOHXIoU6udikABo7RzT9pz7XNyRS4H\n",
       "AtkbTSFoJYulm/+tsrgUzrlYvHHHFRMtg0AebPsJdyCfUXR+d3lxWiMrdKguOzu5mUhJ2QgLVQQi\n",
       "arXqMl0u9kALK5DPbXhgmrhNBI/EfilOTcXeKnAPi3kKfuj1LVPx0ph3WP4VVYGNJtXP1x31z2gk\n",
       "WPZ6ewGnJ+fl5m9/bvnb1NjI1O5C6WM5trskXP08R7gMrJ5AJq4cKZnAACJbIR6orNIG+sz+UE7k\n",
       "bGHr8295vfS/Dpuhah7pTxCP+F8v904cMZkdNL1psXB9vsyigIDNeXFzNOQ2YZo0z5YZTG9j854v\n",
       "VxmMR2y7cpzJgAxjPghz2jLP+p/ty+COYLahol757Hk5bAYzCf23vpLfRDih9zwoNshFsnER3x0/\n",
       "Z9GOoPJlpyuCVtsekoAdQGSBKG8RO3B8BrVvSE/oaYJFljkCYMGUIfy/v+vCe0IbhirTI2awedB6\n",
       "uQgoCJWpBq8WMhAbvfNINEzuww3k7Rp6F0fzKiNfXuNDcLLJjkeAKG/N8JkKWHfaw5KktQA0ry6s\n",
       "hN0sv4aNpEHEyKoSHQSNERXjz2d/uliVl8G/k3ZvkWGmCtk/aIHTz3uHSKPrCowNAjY50xI3ES13\n",
       "9sZ2q0oIbiqVFu+O/dclBTVLi3I4nG2hpwIMvzNOJyeyFG1aUN9xKlwGGUCg0oFqOwoIfWthgMlI\n",
       "ddYPFERN+2TXfpHR2Op1fFCylefZnowZPv0bdqPW++ltA2lsvLr1czXjEND7oS2+hso/uu8I+84S\n",
       "1zuDmwNYgaa9WH//XBSlItds6yt1gAou9LLNdzIVYc8fGunpsGXSUPsOeMfeaqoxf0e9jUs1kTfy\n",
       "s9y5dLBpfaF7OUvTPIxsf67BpvVP75PnQTTZ5UGvQgENozIU8d4G/SKQfQHl9s67rrTr85o3Ag/z\n",
       "VsAzISOL2EMl8Yo1NQgqjXX4rc3RO0QGyAVXIl/vzv7wfKAk4r57KsArQ8y6VZKPq8dekDrlr2BD\n",
       "GKppyXSTBayMfkALJliwCzcOjSQ0NA4A1z+45ESYs1W98W5Txywix3dGQwWdeH73OrDGa8hD08h8\n",
       "gUhxhTtvyHj2dTYsFSRVZkF/oUnNKQwBCldfHa0UlSA/cEXEd4uwWfdHPf+A2TSH1jOLnd1WbLlc\n",
       "tqIR4ECrejuAwOkgMNJtBIuJmCLHcXR1G91XOyn+l8wA0v3ifuyBan3Kk89g6Jwdl9otOahY9iAi\n",
       "MSYdX//Z/eD3hJhSRfZ4mvuNtvp3Eg4mWiLjU7wu4KuoYNb50JQqWptBMKqMOs34lOIGrTA2FqMv\n",
       "54gjdu0oMhmXuK+N7wHkvsse59qYVIiDERs8nuujzBGv8E2H4WeuU8QbkHoy0VF1SyBp1+ZrbrZ/\n",
       "ZEYkRi2N32g7+GdoOnDuxyhFxiCRDBqqvkVeSqF5hzZaZJC+zxfV8n6U+YecnrdwYjzVcnlo5hma\n",
       "PDb8GZZgjwHYtB0bc6MPogqFmeb7BL6E/TUTnq5LjbjH1T2iekvET+nqWqU0PUbAUT9Bx6EM9PJN\n",
       "JZxZyNfglnkrOFOA61NJfLe+S3/qD7rtPQi5CfJD/A+fBIXhCuumSAz6TmBuGx8Lq96Z/OZK2hQ/\n",
       "eDdwn7ho4v3O8V/gb8rVBdOkJOfIJJj7R9w88gqmfVOUGZvGKpI5K/QIapvttZI9hw6QniXQytSy\n",
       "wrD1r3vY6gcDV2SDoKhNeWx/2jHEtP5GjBjiBsRWpmVNakT38x5rKdcyneHCRaB3gp8y3geot1P2\n",
       "sMpYh+IngTX75bslW8tGDPi7ngzDVfi6c3FMwcGY9kkHzJMWyIIyzHv7Bxh+dSlyIti4pOl9sMfx\n",
       "1gVYOh8e3GwHxSnXflHXlI4NG4nvLW6cNVCr4JAFCYsRh0UIUatye0RF6AL9BUlQJZkpUgcO5/Qd\n",
       "OVNgr9P+CAusqI1DzjAuxL7aFP2B/AcVSa2Bw/iiH/P78JwP2hU60IAb2Twerx7jFdXfr393q1Wi\n",
       "FduQV3gpLI4oN3q6ivDWH07Zeu2Ls3DrMqZsB4NiawFfzE3KobZmNgXRFQbbXNbFAEuknUxqYts1\n",
       "uOFKrKIIWXFqy4EepTl93hyLj7tXas5c7hKxAAACcEGaJGxBD/6qVQAHHe+XgBMP7s/9OP3X4/29\n",
       "FZP5wBBZtoJs0lkN7W8D8l4sAP4636S6SiKbOXhUvvx1/kSTE7qf8PWjTKPKVWOUODwLHRCV62w3\n",
       "EpsFMiHuRgWyLBJ6o2+WfIOZSwF2fY9OQStVZeaqIRsqvaxS4NCKKQQyawA7oLWU76a5K0ev/RU1\n",
       "g+VsJMnPMCwmb4hLD7aOLc5NjfqzFC+/ibg5Dx2vKm5Ulv6teTcBhemgB57QkkTBEDP58EnEt6Do\n",
       "qS2GrELEhCrhhI+6xytN1/k81OiGJz/JZ18R8WpArJKJlW29wrtFXU8f4e6jvOBoZ5X2Daqrz+Fk\n",
       "RNg7zoQt1swp64z52XTYIVrF57VzvyKP3C4kpEPyUaXtM1VjeKFjjWSWV17YD1anbSVJQevTTqyN\n",
       "MH+kmDSc3AcTXjraAHhQxAPs7idd/XLwVLV9n+bpz9D4i/owkH3NBGSEleRLBzLOrerdqAqa4+Y/\n",
       "VJC22px9SOmHhzA5ZmOJgDsyXd4CIOLLdrhzdElV7V+t+AjYwvYsGU8G0KlDnK12rtK0n9kWf9Hr\n",
       "yBfBc3yUNtjE/V3NbG1iK8O5nynaEkUfNFaqJqr4wkE877xIaESuxAf4VvlHt6e14YEhYDmOmuyH\n",
       "ViaqnL6mO0ocJesxOmUu0ehmhBbnhZlOKs/LJJ/rlm01ubGK7oChfXrMzMvk4JHxGtW3RuPIITsw\n",
       "p79IcVJr0E9rsrGviH7p6jZ9v6Oe2v3CQsVYT7JrGy0U6uk8dX6c9df3U1i3vVATOP+zoIQGEQnz\n",
       "1EShfIMzmckxktTEqtmMeq3I2ow8XkZqC7guMAAAAK1BnkJ4h38ADebWLPb87sNrNvesU8I+2/Ic\n",
       "9fAA2ULzCJ+SfCYz5oUlm5F8wNHYTmjAD2EwsV63kTWDPaZ3OqZEN5ETM9HqRCopAjXmKbVrJshE\n",
       "QzzYZUB188xsx3NRbvcduUdpFejBRUqaaM41xw5+AJtxDdfBbuYBr+ERM5nr4OWQ7IgZfAIwSSQk\n",
       "ICkrJA92twRB1/4U6U/AiVjsXTXj0GJsh5WYf18cg+MpgQAAAFIBnmF0Q38AE+O+YU+kW2YAE0Hk\n",
       "kEaAD85GThrUDe1q737CJ25bDtdP+8665JVFxy2aSZkZnQ+Uj3kIZ1yj+39157uCVqamG69SEgP5\n",
       "uSHLUQVrAAAAXgGeY2pDfwAAmtevjkBbIgBMVjBO6hKme0qy79u2kdeHj5Z2vtO/K80RelUsmlZz\n",
       "6K5quFcJ6g1Y89x7Oj3RW2HgFWsoqpqMSx3HjGa/D3vhF5E5owywm6kfM9hqacEAAAC2QZplSahB\n",
       "aJlMCCH//qpVAABvtpfu3/p5gAdCrCNRGAzfHeImZBaXglyVwolFYDaeo34mOADFqtGFYXFr3uNi\n",
       "jDZ9XPhyS7L9G85v5qEXx2F7sTNdhVBo+aNxzoQ93bQufWcmaCWBMmGpkztxf0rWfUcZfcqliS12\n",
       "lS6CyvQUD9L8oAyHEGb5GSnr+QhOTGlXkN9drfz0Qefa2cBPdFDwvBXGC8QEToqJ7wrnOikd9jrL\n",
       "+bbjBKEAAAG5QZqHSeEKUmUwURLBD/6qVQADfbS/vMa/PAC2EecCgFgme08KXQOoEvlGADLX6gqC\n",
       "Yr0EiZzGJ1LH7dU+Z48FeOcCfRKiKt3IR2qs5WIsEfSC6mCpiPglWF8+xupbO4JNtDd4uxBc+Dsg\n",
       "qI59vnJG2LX8A8W/z6UAshqKm+yIlpR/QgE6g+B7+yId5tRQlSs4BcsxGN69zvhy/FPnmIAPnMaZ\n",
       "UtCZ/cbtXr2sG8kR6dBHQoBWquQMtF9S7+TGNAjIAFXVQtBws5l/mjCdsxHx8NhqriJ3/0/9+Sv7\n",
       "QkGElG1NzUQ3b6z87Ehc3+lc8YxUOqu1Yl7lyGXXhb6aI7datYgDy4DviHA7r6O0zEAyGHFbh9Wk\n",
       "a4PmLPU84em6wHMGcQRZdXZECfVQ1y4LcMkShSYMAp4ZKgS148gyiOZGMADWb6APO8P4tdAXnlMQ\n",
       "Beis25Q805WVlqRkPeU/3p8kFCwfKo54/QNct2YBu1BujHncwEmdJd1qpj0vJeMtSg8TRq28Xi9h\n",
       "5KKNcnnbkYMICUg8wwa5Beyyfdnb6QTtPo6BpF4edsRXWkOrR7KPUjfanpqEZJa3BQLHAAAAXAGe\n",
       "pmpDfwAJrXr429qGLty3Q8q+sdientBwmFRk3VmdnlKLZ2zbWHCoGp6Q/VQuA0tnguhNXJAB9oue\n",
       "Unnyz5qE/9RUfd3HCgdjvBXEKNPka+Mkbc8/7a8lhWhBAAAA2EGaqEnhDomUwIIf/qpVAAb7aJwL\n",
       "M+1LrGADm0dacFwZDnCRaqieDfR5F/C4csxY+x+TdOwHJT0TMTGyomvVchzUoQos+5Z+JRnJsp86\n",
       "gZrSot6noz171K4ESLYwuKIYGRoBjWORXjJLk/IG94fLHUtZfJfNmzuokmlGlmgnYMoJzMfQmS9k\n",
       "VRHdlWQjr4/jqouCnYnrH22DuoA8x+J92RQjgO+CXTWZ3cEKxjwKabwUFJkzdVzCTwNywSnYbpbG\n",
       "cb9kIN8SBYkQ5F8XwbXsMmItvBZTmYFVGAAAALZBmslJ4Q8mUwII//61KoAG+2DVZkvL3vAACyZ7\n",
       "0rdcMfpYfRkUJ11VtqocirUdoQ1hGW9/FsWSWTEzKx90u0499j3RwUQW1C36ZEXxkM6wypLL8NB3\n",
       "EKJDUTrKACFwM1My6I/gFSK9U/x1NzIUv8ScQ2o+TdsPNsn5tdPIP9w3E4sWq1yGI1bUdxPbcZYl\n",
       "YDQJktKkeFFhWahf5DrkMLq4XdaMNegWaeFJL9QDvefz7WeLZNvOSgAAAxNBmu1J4Q8mUwIIf/6q\n",
       "VQA8M+//LTuDAAaN8+BnaIlsG2+qNqEeIl9oe5k7VzshmtHNdlPDS7ZcnZidXI1HQ51asSdz24rd\n",
       "L9xGo43kXu6wjY5ywGPErep9f0zQlmC78LYbvIaPwWm/IrgbuhHhnz5ikRrFCoAKQgUaubJ2vBrT\n",
       "jVI6DgVRfWLQ6Kqq0x32Xw3JIFZI/0lGAD6o5Guum0CfwcL5wYE7F1TLbvxr05yGu/TCMz3CP/Sj\n",
       "7tHVgRrL9eMrunwlssFrIovN2yUGZJ6w5jXn/A6ueEMZxPMklsrG9TG/B1nPtwqTf2sMvvu9HU2N\n",
       "sWjah8y1OcErPaNl3JteLtWg+mbLMtFon+e0CDyX43R2NVkJAMO8v0DBg/jrSoT1Qr1KuazQTAlC\n",
       "OaJ27C3PB5JwYaI5GmCRvRX6Zd9ZmlZ+BQFQXjcxngIKqMZCLXIhXKYJjJWqOLlWEeqoYCXVHgvN\n",
       "ilozCiQSmPitgZgWLSQkvvDS5E7q/9MtecviiapzHn8o5e5c+BGZysnwoVMSL7hzfP9EaniWt2oU\n",
       "t5oUTbPUUdXjG4sUtS5yWOdx32EbPZJGBtH9ORdarZiGGPkiyZrNhIEax2eN9yoMtqJW6mgo+ssx\n",
       "KFOi8Bpdj0X5zYIImcAMHvWqm5Kbp2fB8XxR6QdmaZ1ZrBuU1sEnCkrdu8klxrEqlnhQ3cAXv5Rp\n",
       "wRu0K0gztjx6rh3WDekQVvCIY7MIVV53ElnVN559gXWQIDfff+XbGN9TjEt2WyFjpSzP566PyAGT\n",
       "Wv7iU56f66wwwbphMRczujJN48J2IiCTS5sIoQyNnNq4YjWZzaNNMcgqKwAScevVuhl9NjanN5Gy\n",
       "wJEhGuv9/3tXIgGbzoIWQ1JI0RGM9HMh5eFDzL4Civs5kVG6NCuSjzkRs9HQbmRIQBLYc/467rSc\n",
       "nouy7KvdzfzVg2Eps+sYINZa/kkKKIOsByjHxlt8vqQdMvtdXJ2tKqStJbzkPjb8vPpJ9eIVr/4I\n",
       "REnFZJEq6bhwc+5s/X7zk/taQH2VgEkaaRgoxc8tOVaBAAABKEGfC0URPDv/AGlF7/wH/C1KgA+K\n",
       "veI8QFRS+NBRafdFat9RXZTY9lsS2hiRZ+d4JTo+kRDENIfCgwl/vWUcokpKZ1alTgtmQ+01KJzB\n",
       "TMH9xPIBF/2X3NdZrA0YzOcFWZVuFF/4uGQ4aMU4dgRvDNNQTE9SMlPAPGrxOAi6+jScSKwrNj+d\n",
       "/54coIgTNRqkR1zOCKQMaqn3I/V7EiA6db7eXgdYpdMUIY+icaV7UayKKg80Ul+NyWMBpUGcaODf\n",
       "wQ6MoSOBkYbLcTiESWbmOpcNHMrnt/CsINLL/ztupqggQtmHGQIHNSKQZgqYouAG59+Ptrsyyt3g\n",
       "3ngr+DWGbbBqZjUeVDM6c0pToELfeXrTmnk+w6KGc7JAhumOy5jxlzKF7T+4715AAAAAXwGfKnRD\n",
       "fwCbC4ZlNLEe9tFxkAKIMGYxD0mGNrSVU6qCC32GmELNl80gFgS8jXoBABUC3pBWKl//UAGxCXs0\n",
       "blf5MyzpJzYsYH002dR/giew+dCxLh18T61mpX4f/ZigAAAAggGfLGpDfwCXRzJAB+a0AVi76O+V\n",
       "Kn0yJZtanxUIL+A+0E90m2zse9c8UHslqMp5kNfZCYZuoEXvehnO7JMfdgsFUqT1CR63d+5R4sGU\n",
       "fNPO+A+w6zcHYZCLiR4djhtow7HmUEZ4zdiRNAliFIZAbVIN+upBX5MPUAcUVWw1PGP6WUEAAANZ\n",
       "QZswSahBaJlMCCH//qpVADualL7D1MPx1VzoAAXSXg4ZbYGsQ9b0jebH1Lbn4mtZEhgjXzO1PbXJ\n",
       "k8gy//4d1tX0rKBZdTupyqaXxh29P3ugtXUOF94LqFsLkjUktBeuu4fT3xltzTGwgkw5GV2W8tp3\n",
       "eTtspbm1sYhp6+OKMfK6kuXHIc6koX9K0SFIkoFJtKMNe/iobImw0vBb9M1vgf3uXpkt3TAtJ0jb\n",
       "bOO5Cx0SCiNmHrHdtBgJxFzq79JmIEeA4nNT+uzT5nbHUvsS2BkioJqNM+Uefi8zcQDKyOsRg0s5\n",
       "L9MOqfUxXoY6cB61AKK+vMjiPuEyxQaIV4wDe6PFIkOwC3Zn6/AizY+hU1fD0DWh14DYn3NW76aJ\n",
       "DWngxziLQPmNKkGhSmFp+8ndS53SdiO3NfKbbp8ZX7XS9nbShmYF62Uyi2BPgw9u9Y+PIodhoGnM\n",
       "X19jIBEf5uGmEc9IdUc+INgDUDHzSMfUTMDPxPuoRhb2G/AqEa0jkpYyii04QTreSttPhtYoa9fR\n",
       "h+3xmJ9VNXz0KRB0asj231AJhG5zH0ea5nwaeWCL7qIB4OfO880ptUXLF437ZyY+/QHbhZXjKJBB\n",
       "S/EsfWljHuza6FzuoYpXlglE8CC5b91uK1aWLb5LOb9BbHmlPZ1kYrv47f3Wl8AhD6EcY/1eGA7e\n",
       "j+Nw8BFQxrDuVfE6DUVhpXSElH7f5wkSkM0Or9V3tiEW6g08+zyHMXDr42kvR4k1aF3u/u2IJ7ZM\n",
       "nhdPtMYfquEVbRMZajhYdE5Ski59TgPckMAUlyu4fMBz7jLcJJRNzR4ZFt+HHX4XUvvbCU4PvpDj\n",
       "jAr0wmiRBjw7TonyEz1KNmTkdwTRAV6nGzEI3nZH9qVU977DO0uliUCK1CLuiTcpfEaf8+f/H/9E\n",
       "vmD62TF0U6ijgnv0ZLdBfJylu9VuGBn++nUSpSe2kWXK1thkPPSiqZlyJzq5dQv+QvLbTM+FMhAc\n",
       "Ry1jOajz/Wlmitde6K+M9eOwdnfx38bMZq2dLbDaghfc6ZUlGtvNWQzGhQor/j+rB68kHmoZ5Or5\n",
       "eeIoCRnH2ypIgesDlCr9COBMuD0ErFSNXymW/eF7ghtE40vpKE+ZUB4IpsqZ+1KYp5FNdkvVbpRp\n",
       "RZMAAALdQZ9ORREsN/8Ak0Xos/xHuiQAD+jmIl7yAjogYC7RPrAVgVoV9mH5C3SHkC1jlf2l5CVf\n",
       "ed3heqDpJfcZ8JWTxDDqAxqxG51NUPcVMFdysCCbyhUEPFBdH1q8ftxgNsJBezvuhQweOKHaO4/P\n",
       "LzU0hKVJPdS3iKbqgh/yWHzQp3WIiWwadBDanvLG2bnmH8rcYmwjLftOYQLNX8IlWh3xOzfRjxBk\n",
       "zRKAnZCPEgFYPWrhRnD3giJGSfhuyRZBJcN4nHGwjoxz2Nw/1LzhqZcOUOATfolgua8LLPWI0uH3\n",
       "w9j1iKSdgsDjVLXmBPh3goEueK4WwoIhelm6RgiVDSWS6MBtFlzLCdK90HABWHy2w26vSZ0CNROw\n",
       "uIJWyvStEm+eM76FqgKnGDDnUk2GAS2zZZJAEx5I68Ta2xXrZ+BOQNub1a6nH79Rr35oBriTsCWZ\n",
       "H9y/F89FUHhU4bLfvc6vcXbpu/rbF50OWaEOoBehZ/yJ9adKMnSlMoQvxoqpiMmtANVVnElnfCuw\n",
       "cp3zuTzWt/+q54HceMXRypBCbIrhLE6Sd6Si1Nf8jeACFGSRBChNsgiPGC5TpFC0i722GgxYEExb\n",
       "WG7cGfN++8H5TY+VHd31eLH2pkSNw97AiJ/40FYQwu7wTH9FKSxPdY8wvmUjQ+9ypxAs1Gk3Mhuj\n",
       "zHQebkaIHKJEMiOlADInUVdgulxSGfQkDFmsRwv69CGx9FVCIRERwIA4L7Fy15X1kQ3qMqkU39A0\n",
       "yym2O8JPFqsfdZnJeZoSQmp8nrsR2aBAxyMiD/Kr+i9Pt0R4RYXT6Knq8Zvky96yfitu1f9Gu6d1\n",
       "pzdH5TPF2JEsXjNfA9hUSGt44KGkXRF2mdZl1O057hQ16Kq1jP2X8tDYTcJDhQLEnt8d5E0qToa6\n",
       "7Sqe8FWJSrezdMrouIZvP4c57RZZ8yHcYoplFShTUDZhbnr7xOMNiAKApkeR2CT/RCCrMOBXQQAA\n",
       "AJwBn29qQ38BReUOkCpvM+nuG5EACFPea32G/jWe7JHD8/qDCMNmjp4CA0PTpLNu9S4m/w7sKe9x\n",
       "+pctAmAX0H2txPESjQd6YdpZ0/lCp+YvA8SGbppxos3spz2TzjV+7kERhWPRF7jHdNxelt0xaX/f\n",
       "PQF9SrHNkFrx0jUGnWTIE7tJnJbSNM6mZ5T+PWuYYhzVkEISBgIwI1MoPyoAAAGPQZtxSahBbJlM\n",
       "CCH//qpVADSG6hMPx1VxkAAdbuTyobeHqIUNfpZJhtcvpLfO1G5XwSwTHKbGVvTC4WQD/8Ix7TCx\n",
       "MH6OMp5vacO3LFr8l/t3ndCDnTg8wz2FMT7HqklnsHcZ8+SCszPJdLD4+QE4za1yNQgATVV8KxDd\n",
       "ObwU/gLrZei/OPWOWvqu3nLUREGnqGKn3Ck1q525hdgcvFB6GDG57PRU/iFs4FNgc4xvEalBrKQD\n",
       "Z1n96YwfrQ2TdbekV+x/ln3wUR8wgt54Em2pGbEmRCx+pD1k0E2ud7kScO66DDmgqacLXzWgn44T\n",
       "YeWC7XKhgyc7/dDvJkLx5y51aYV33yKXL9NMzYF2KlO1pAZ/twC9NKAXy4uIUvw+BpTn9oRb/85F\n",
       "vXe/CUGvOPnpHMd25uwi13uTFjdJy0WmzVyh4J9J8HDIGpiWlXsArtHQXtw9GqRXA5B5BFK3lTtE\n",
       "wW7HuvpLFfaBtM8C6Skj+ktNDnF9Tubj7cAZ1yZapj8Cygr9156We5+wrGR0934JAAACxUGblEnh\n",
       "ClJlMCH//qmWAMLjzIMXvF/9xpjKYAOtwOPTkJfNgHVhAU3tDclXrkHtnA+ezGOp5ucwLVfQrm1W\n",
       "0gdxDSK+xR15IYORUV1CTz6xJpDsO7UBCFSNJcGAEbyg4WpSektI/R8TF6x8ldv0qE/IeFvqfCnE\n",
       "w0ORWxcJuC158yDh/BNHH4+EhIKGz9+TjRoh+6W7Uff4S3EPKS/Xlq7dw3U5ik803k6a8iIi27us\n",
       "vPfZ32cY9gMomRnw8D3rKgfQOH0ohvT80zqmm3unUH0BMr9/oTFpff9bQumxGIzHM6v2My2J4Pek\n",
       "DGUuN1sSEzef7Jm9uYCPkJrk0LWQ7YUHKoT0S2Hdv3jPLv91nuGb3Nn5/L82jVklFTM1NwCdpHp7\n",
       "yuXYJg8Z9at+BTK6BLIqpRVe13Za9RWa5voYAN5RbF8j4Thzc6R86onGawQxIVnnm8JtDoJW1iBv\n",
       "sUutVFryHNOV5kG3BTsjRMAWJ3fmcW1AmaLIAzvKX5nenV6dF0Z1P8QQsWdsjBuqPSikb5mN6gvv\n",
       "SB1U3O012QpFAruVdWMYqf0sc9setifvx/kbwaNccC0nFgsdq/vIsQzJUJeW6CkPrLlJxvZVgEcG\n",
       "rLulKRKOEo229vXvAf7E3DALqWYNeEp2WHGEWyrHRMHlz3CUp9dSwF9ZQZHm2bT29smDFVNnekla\n",
       "cFlbPEGStIBGGiY+IWrkIC170Rotuyf982TtzsRUbZ/1e2vPkclLIgqlSngc4M3C2O7YI1Vgx114\n",
       "7AkcoUjfh4tXi46eCmYlTPZJ0bJkNNkCJz4szDsoABF7R7uaOhjUKWys/DxcKXCr1L6HaRob10BU\n",
       "JVDd6N2g5IJ/ohnbRNfpBz7fVzpKo+nIKWYkTp6PX1gC2jSfveGMYy9ISxGwSfIXuTf5ecdWTS3B\n",
       "K2KsQoMRgSrsfSAn+C/4z+mdIzkAAADVQZ+yRTRMN/8BRgxiOF8qft8p4DcAJlBkIErDIVb1bu8U\n",
       "OQ95WTdq7DxEkSm3b/4eW8Vj0n9DOglAuZZvz9q4b5Tibqx67HVm5/Oh46sDyWwuHpvdd6/g1CV5\n",
       "o/S3VtaiU0+HBx+oAz4zF3eiEWVv0quZ6cc/Rmgz+WCgyfZ+T479alczoD2mHs1YtnuD1N/JKIe8\n",
       "VY6MiyS5iPLdtbh0Cc32NFLEuPw2WsSxX6hU5omEKqSZf+F4+nPtCAZKHNCVUHH9PCKE0CRDzAdi\n",
       "6idwVVbaeQowAAAAhgGf02pDfwFF5fHucuceboIZevABNEVAiVIl7olbCGyKHVoTctnmj9r40l1n\n",
       "SYFMDUMc4DrXBUuQwvjoB4eSrMiveoHRCYE90VZHBZO19S+4RMtaF9uh4wv3J7nHRP3XPevmxx4a\n",
       "ICHRTtAdx8j6i8C/mseyXiHd0Gr9vRpQ6DR743MFf02kAAAC4kGb1kmoQWiZTBTw//6plgCwtTD2\n",
       "CQ/NY7OWAD8corHFGL5fUUEeS9hAU3uYfIMz16WJ6p0CG5P67JezfKLUBZ2VaDNkuNgI3zlBTmoP\n",
       "1HOhUygX1KLIrtgGTsTCLwp443GFdXcEuNUU/83aQ8zhalA5elaeH6TthSUFXBUJkeAwS95hwN7g\n",
       "MqnCLkI+BFRHJl45PV7Dl1DRD84jattOFLeS1dTJ4kagHGqmBvtFXsFtnw8THg7/cA6LbWgBHgAB\n",
       "UH0r+y5BTd8yT+m9PYJW1Gr/y8TTg7QEN9waPkPiNVX6ljHhlWj7hHmXTvvzGqWAjqHAuvAVBJ8x\n",
       "HS6ARAm9O05TSx+/s4I7kSCAiA9Nnv7b8Vo7GMHFI64gyYo8SXN6pTWUntOgBbiCGHWmuF4iq30Z\n",
       "da2K52plBFja/Zcr9ItyMgcU6v0n9F7PNrFdguueGF2CGB40pmCULIAJUaVt+68yHGlIt7wID1Nw\n",
       "oEDci3FWqPaJF+tu9R3CZTrmIH/pdhPLTWeC7srzi6RXl7nQYacJtdE47tVjKGeYosv1+nrj3iJK\n",
       "E8IE2xC4G2UeB612Z6KxG1eAZJt03CtGH0paI1Me7IGzFXgzqSUdLL6t4jSRMMMi4ud4fRtlH/G4\n",
       "nodS7Q0ZUtn8BYTVFcOgNLEiWptz+00lrnePwWbxc90kO1JyWTGFnrC2PHesL1GGizHS9R7W1gbz\n",
       "PzXsowxvPDDX6ME4qcwB6i74o/+lOL1lqqzI7Qs12viQucDsa8UnYYZh9RhsvHpi1MiRXefMMjiA\n",
       "AUjv+p25lOIwV1oj8eG9D3cssOWWTPK0kQvjsbJS8mlrdQMM0qWbGlzvUo4EswOuXPt0LM4Ppzcc\n",
       "Pk0MGZOPX+psZ5pFv/AS0E4UD26j2vAwuKcPdc3dbZWxJmxg6acR/UYW3BRjj02lXNq44OfcjMze\n",
       "MVwp5mGTVoPWGlNdCIJaxuh7MH2Jt3e0InA+PTtMRdjKkwAAAGgBn/VqQ38BRi6yOX938xCpua85\n",
       "kbzaVnEiIDzBEjG8hSzRrQhGGDhBxV70BIFmqzsl2UWDSdXXRACauCSB71gJdGKwD7NT3umqPFl/\n",
       "rNu6QoGA4k1W9V3I7BnvUOWv9lYIstzIKxVDKAAAAp5Bm/hJ4QpSZTBSw3/+p4QGV2VDEZSuUg/s\n",
       "LzbXwATiivaj/phAO6B/9hRpzYbYSuE9l+zAjHhrAvJVBbVYZu52oPprKrJuBuiitCXVfIvtZ9Jy\n",
       "o6caU3T1dqf77ZnJKoP2ixhHURxnoz+Phh38U0fmrpzty3k2rKfAfyFvTw8cCkVyl5rLwCEie8GN\n",
       "eKCjq+SSbn1s7LE3iWoTiuQHatL9Yv1fDPjsJSSWMW7ovOOa5WT6ct4Q954OVO5zLYreWQv3/Rv8\n",
       "imA+eUiQ6C5aaHjoM72N9ux54SHbpwXAADUBy2SyiWNO1figDdypw5ZdgiGe1iUR04fEjIWsPMBt\n",
       "kqs0NcwdA7iEKOebvnQtcer6aBAQ4+QaKa8JtxPbuMja/zyYtM86CzrsEtQ1odeWnEX23fTiJNNL\n",
       "GQpoPyKRX7NlhFvkGmYg4VLLAT28V4Rp1v9BCCs42XBpPAeMuIsBkdCwwySPqkJrvCqO8WRy0m32\n",
       "i2EhIRzN01nE/SKGAicyTX4kS4sshvPmxDNXKGKYTbltCqgS+5CAgh9C/m/78291wcE8jzG/1We+\n",
       "V/n2WRNOHiE7CvJ/CeF7rgTlT92VrQqaMX8cViTExErsc25har8GE3+Hk7iMgZlfLYEXlvaQD+vT\n",
       "PH66O104rc+F38cVXg5Jtxpm/dnmZ/+MPagn5G88kD04jHtlAkJx8a18H84LwBgLNpubDTtgC89h\n",
       "FOrK76M1Gjz4b9gnAByQ3ZMSQMvsc8ij81I1UhF+ZJESzz4y67l9G9sadCj5PW69TVsblXfGodRr\n",
       "KHZJTQAaKqgXFXWEnHK+9ZZkHtKCcZhxPj5WyEYKe6X7PSSzJJ3zu4tHDa7lwf+pTD9A2GvkdnjB\n",
       "6Wrl4nKEa/KaRepEQrF69jKZAAAAfAGeF2pDfwDfKhaS7sIexHABNEU7Pd8b+kdZV/HViR0tj+e4\n",
       "ljnnhzw7wIzZk8VbXvedftk1DgMhHZ7dNip3hbq738mFQInGllsKMfA9R43Mk7diDCCIKpw+lhVy\n",
       "yYpnA9DpMjogfC1/A4anKLoY8S31CnBl7qPFiGpztOEAAARCbW9vdgAAAGxtdmhkAAAAAAAAAAAA\n",
       "AAAAAAAD6AAACcQAAQAAAQAAAAAAAAAAAAAAAAEAAAAAAAAAAAAAAAAAAAABAAAAAAAAAAAAAAAA\n",
       "AABAAAAAAAAAAAAAAAAAAAAAAAAAAAAAAAAAAAAAAAAAAgAAA2x0cmFrAAAAXHRraGQAAAADAAAA\n",
       "AAAAAAAAAAABAAAAAAAACcQAAAAAAAAAAAAAAAAAAAAAAAEAAAAAAAAAAAAAAAAAAAABAAAAAAAA\n",
       "AAAAAAAAAABAAAAAAbAAAAEgAAAAAAAkZWR0cwAAABxlbHN0AAAAAAAAAAEAAAnEAAAIAAABAAAA\n",
       "AALkbWRpYQAAACBtZGhkAAAAAAAAAAAAAAAAAAAoAAAAZABVxAAAAAAALWhkbHIAAAAAAAAAAHZp\n",
       "ZGUAAAAAAAAAAAAAAABWaWRlb0hhbmRsZXIAAAACj21pbmYAAAAUdm1oZAAAAAEAAAAAAAAAAAAA\n",
       "ACRkaW5mAAAAHGRyZWYAAAAAAAAAAQAAAAx1cmwgAAAAAQAAAk9zdGJsAAAAs3N0c2QAAAAAAAAA\n",
       "AQAAAKNhdmMxAAAAAAAAAAEAAAAAAAAAAAAAAAAAAAAAAbABIABIAAAASAAAAAAAAAABAAAAAAAA\n",
       "AAAAAAAAAAAAAAAAAAAAAAAAAAAAAAAAAAAAGP//AAAAMWF2Y0MBZAAV/+EAGGdkABWs2UGwloQA\n",
       "AAMABAAAAwBQPFi2WAEABmjr48siwAAAABx1dWlka2hA8l8kT8W6OaUbzwMj8wAAAAAAAAAYc3R0\n",
       "cwAAAAAAAAABAAAAGQAABAAAAAAUc3RzcwAAAAAAAAABAAAAAQAAAMBjdHRzAAAAAAAAABYAAAAB\n",
       "AAAIAAAAAAEAABQAAAAAAQAACAAAAAABAAAAAAAAAAEAAAQAAAAAAQAACAAAAAABAAAMAAAAAAEA\n",
       "AAQAAAAAAgAACAAAAAABAAAUAAAAAAEAAAgAAAAAAQAAAAAAAAABAAAEAAAAAAEAABAAAAAAAgAA\n",
       "BAAAAAABAAAIAAAAAAEAABAAAAAAAgAABAAAAAABAAAMAAAAAAEAAAQAAAAAAQAADAAAAAABAAAE\n",
       "AAAAABxzdHNjAAAAAAAAAAEAAAABAAAAGQAAAAEAAAB4c3RzegAAAAAAAAAAAAAAGQAADmgAAAJ0\n",
       "AAAAsQAAAFYAAABiAAAAugAAAb0AAABgAAAA3AAAALoAAAMXAAABLAAAAGMAAACGAAADXQAAAuEA\n",
       "AACgAAABkwAAAskAAADZAAAAigAAAuYAAABsAAACogAAAIAAAAAUc3RjbwAAAAAAAAABAAAALAAA\n",
       "AGJ1ZHRhAAAAWm1ldGEAAAAAAAAAIWhkbHIAAAAAAAAAAG1kaXJhcHBsAAAAAAAAAAAAAAAALWls\n",
       "c3QAAAAlqXRvbwAAAB1kYXRhAAAAAQAAAABMYXZmNTcuNTYuMTAx\n",
       "\">\n",
       "  Your browser does not support the video tag.\n",
       "</video>"
      ],
      "text/plain": [
       "<matplotlib.animation.FuncAnimation at 0x113f0a790>"
      ]
     },
     "execution_count": 9,
     "metadata": {},
     "output_type": "execute_result"
    }
   ],
   "source": [
    "plotTrajectoriesFile('DelayParticle.nc', mode='movie2d_notebook')"
   ]
  },
  {
   "cell_type": "markdown",
   "metadata": {
    "deletable": true,
    "editable": true
   },
   "source": [
    "Now, the ``type=indexed`` file is not too easy to work with in further analysis, so Parcels provides a function ``convert_IndexedOutputToArray`` to reformat an Indexed particle file to an Array one"
   ]
  },
  {
   "cell_type": "code",
   "execution_count": 10,
   "metadata": {
    "collapsed": false,
    "deletable": true,
    "editable": true
   },
   "outputs": [
    {
     "name": "stderr",
     "output_type": "stream",
     "text": [
      "100% (10 of 10) |############################################################| Elapsed Time: 0:00:00 Time: 0:00:00\n"
     ]
    }
   ],
   "source": [
    "convert_IndexedOutputToArray('DelayParticle.nc', 'DelayParticle_array.nc')"
   ]
  },
  {
   "cell_type": "markdown",
   "metadata": {
    "deletable": true,
    "editable": true
   },
   "source": [
    "And we can also make a movie of this file. Note that generating movies for Array-style particle files tends to be much faster than for Indexed-style files, particularly when the files become very big."
   ]
  },
  {
   "cell_type": "code",
   "execution_count": 11,
   "metadata": {
    "collapsed": false,
    "deletable": true,
    "editable": true
   },
   "outputs": [
    {
     "data": {
      "text/html": [
       "<video width=\"432\" height=\"288\" controls autoplay loop>\n",
       "  <source type=\"video/mp4\" src=\"data:video/mp4;base64,AAAAHGZ0eXBNNFYgAAACAGlzb21pc28yYXZjMQAAAAhmcmVlAAAuyG1kYXQAAAKgBgX//5zcRem9\n",
       "5tlIt5Ys2CDZI+7veDI2NCAtIGNvcmUgMTQ4IC0gSC4yNjQvTVBFRy00IEFWQyBjb2RlYyAtIENv\n",
       "cHlsZWZ0IDIwMDMtMjAxNiAtIGh0dHA6Ly93d3cudmlkZW9sYW4ub3JnL3gyNjQuaHRtbCAtIG9w\n",
       "dGlvbnM6IGNhYmFjPTEgcmVmPTMgZGVibG9jaz0xOjA6MCBhbmFseXNlPTB4MzoweDExMyBtZT1o\n",
       "ZXggc3VibWU9NyBwc3k9MSBwc3lfcmQ9MS4wMDowLjAwIG1peGVkX3JlZj0xIG1lX3JhbmdlPTE2\n",
       "IGNocm9tYV9tZT0xIHRyZWxsaXM9MSA4eDhkY3Q9MSBjcW09MCBkZWFkem9uZT0yMSwxMSBmYXN0\n",
       "X3Bza2lwPTEgY2hyb21hX3FwX29mZnNldD0tMiB0aHJlYWRzPTYgbG9va2FoZWFkX3RocmVhZHM9\n",
       "MSBzbGljZWRfdGhyZWFkcz0wIG5yPTAgZGVjaW1hdGU9MSBpbnRlcmxhY2VkPTAgYmx1cmF5X2Nv\n",
       "bXBhdD0wIGNvbnN0cmFpbmVkX2ludHJhPTAgYmZyYW1lcz0zIGJfcHlyYW1pZD0yIGJfYWRhcHQ9\n",
       "MSBiX2JpYXM9MCBkaXJlY3Q9MSB3ZWlnaHRiPTEgb3Blbl9nb3A9MCB3ZWlnaHRwPTIga2V5aW50\n",
       "PTI1MCBrZXlpbnRfbWluPTEwIHNjZW5lY3V0PTQwIGludHJhX3JlZnJlc2g9MCByY19sb29rYWhl\n",
       "YWQ9NDAgcmM9Y3JmIG1idHJlZT0xIGNyZj0yMy4wIHFjb21wPTAuNjAgcXBtaW49MCBxcG1heD02\n",
       "OSBxcHN0ZXA9NCBpcF9yYXRpbz0xLjQwIGFxPTE6MS4wMACAAAALwGWIhAAQ//73gb8yy18iuslx\n",
       "+ed9LKzPPOQ8cl2JrrjQAAADAAzdiJ7g8K10PRXgACB3YTziHH/iASV/T3ainRhafzJYgEpYi3BD\n",
       "H8iNOSmFXxGN+Igqwn+wf8jAuL4yx6unN2AO7Zr5XpyFKjCWGcIq8QSkFJXWapCfcFlbq3Fquhh0\n",
       "o619Z3D4OuVi7rMXJsnhVy+wJn4M7ld36i6Pzu8uK9+GMA/C0fzRh5bcvBaYwdSXOea5XfCz8Qsr\n",
       "VjyHqNfcSwREN/rUEYjEQZKbP9dCFMh8Rn9LS3UomNKl8JsWSEpoytm3D89ksGdy8//qlxvvNo6o\n",
       "/M1QiBDwqxl/g7ZUBzWru1Zy9IvR7G2nkSdOuius7yrWBF8bDZPO3qEnoAAutnmIjcYLp4/AmUbZ\n",
       "jDmvPf0z3nwa4SOqfJqtD5I6pTLVdkJF6dXW9v6oshCMKQXsPkxNt+LeYe0oLDLwXEYXV4mYIjqx\n",
       "woVfwRsgAdBFTBiQWR5n5fdx68IzdvHqKEjj/sfVOtealKycVVtzClBfRazcL2ModMiDswbQF17v\n",
       "31bHynUyCjp0Q6Mr1WuO2c6j7JzRoJRDVJypU01KmSJOoHUUVtvnGSchnmF87tkJwlLUX4FDwVWH\n",
       "LIWdXBUMDLKJIPux9strgs8Rd2aHKf2QhNmXOodpyn8CSg9grY+siE7uNHYZaG4lzZTjdKPNiNzc\n",
       "l4rEQpSKU0ysAx2FdPa/aG55hZ5MRy2sVNiZDW0VPXXuQkFvWh54+5kFmIlyCusXA05LLLG/CQhr\n",
       "JFcTKbEvtHG/L2uR5IBQ0worh7xY9QeJXyRqfdxy92Dzx8rNjuObdYNU9oKx/FOugLFZ/ELYLOtM\n",
       "npDvwXCjRl6kCFI+qbgxpAL0MVdR78QZ8tpWOjBTAIgXXLKspxscKbWjQ2YlOo/I6Ll4U49pHQm4\n",
       "uIw7dDgElQZacLN5wfrHLQAGWs6ABk+8LAb7Y7LADy6YiZZLFOqfp7rxoogYbS6Xcl76GphDyJCf\n",
       "k2+ipZcfYnWbwKOX+td4omwaHvYfnRIgGmHVjGwiftJumWc+0HfJreUJp1FqVQ5CLGSLezOwWEVJ\n",
       "ltfwB/GQGOBJAE26JrjEXMzrG3MqWHIzWChRw3fsWmgnaX1QL9Fy/smQTJBhKe9jzjQqK5UCq0PG\n",
       "z3JXOX2hwq5ApXHIuFoOfZ19t1Nk4Bvh/Zpggb9zJ7xfkbHBXaij+NLrxRkV2NmxehyV3E4+GyyV\n",
       "Hh7t7vie00XZpU2j8673WbFBk8gjJhF7QZl/VpygEgUyHaVz2a8FpKqP/6wuN+Ne7KvPe2Su8Kuj\n",
       "y+FYkm5ytazj7jkJx0+GZISEKf129xPugtDYHS8cFNqtBvreb+zo6Qkg55Q15l5scGQ66LFFEim2\n",
       "eQ4CRM0ydSmWF+/AtEJCSV7oHwCxMTj9x7uJyYCeZMks8dSI8lGX//5RBKU4dm09FWyR5g/WFBWj\n",
       "aEFkZfEVORXgcR/7d5uI7eeax0w2VCspCB91DfF+hpSSdt2804mz8DmzloqViLiW/Vu5Cyd7jmaA\n",
       "LNDuvZaFrIJBIT0KSRePeN22huijRGr67muDTbxv+z67VMNIha55ljAEf/F1QTo8gTLDZTWXGMO2\n",
       "NNBpZTTmhAxc3mO9abEfxn1vDlpP4WKSw6rq8zPClStbQNwFqmHTmwCU+jIZsMY1oFy7owIORSxJ\n",
       "+BafWP/5e6cyVWQmihdWcoRxYLwfLVhmkmgdR4PKE5eY40OcFpvxsY+d8lWJrCbGv/t0g8KVR6jp\n",
       "bJLVkZCwTaoPIs9eyO6hJ70kIKM/KBC4C8SAn8Dge4X9F5QfhsDbCG0toWe9q1mYxv7Cm2RTyjNZ\n",
       "vbxgtTkaU3D0tuvOqtFuGF++c3hX0P334MzadNwTOwOWlhvOHXIoU6udikABo7RzT9pz7XNyRS4H\n",
       "AtkbTSFoJYulm/+tsrgUzrlYvHHHFRMtg0AebPsJdyCfUXR+d3lxWiMrdKguOzu5mUhJ2QgLVQQi\n",
       "arXqMl0u9kALK5DPbXhgmrhNBI/EfilOTcXeKnAPi3kKfuj1LVPx0ph3WP4VVYGNJtXP1x31z2gk\n",
       "WPZ6ewGnJ+fl5m9/bvnb1NjI1O5C6WM5trskXP08R7gMrJ5AJq4cKZnAACJbIR6orNIG+sz+UE7k\n",
       "bGHr8295vfS/Dpuhah7pTxCP+F8v904cMZkdNL1psXB9vsyigIDNeXFzNOQ2YZo0z5YZTG9j854v\n",
       "VxmMR2y7cpzJgAxjPghz2jLP+p/ty+COYLahol757Hk5bAYzCf23vpLfRDih9zwoNshFsnER3x0/\n",
       "Z9GOoPJlpyuCVtsekoAdQGSBKG8RO3B8BrVvSE/oaYJFljkCYMGUIfy/v+vCe0IbhirTI2awedB6\n",
       "uQgoCJWpBq8WMhAbvfNINEzuww3k7Rp6F0fzKiNfXuNDcLLJjkeAKG/N8JkKWHfaw5KktQA0ry6s\n",
       "hN0sv4aNpEHEyKoSHQSNERXjz2d/uliVl8G/k3ZvkWGmCtk/aIHTz3uHSKPrCowNAjY50xI3ES13\n",
       "9sZ2q0oIbiqVFu+O/dclBTVLi3I4nG2hpwIMvzNOJyeyFG1aUN9xKlwGGUCg0oFqOwoIfWthgMlI\n",
       "ddYPFERN+2TXfpHR2Op1fFCylefZnowZPv0bdqPW++ltA2lsvLr1czXjEND7oS2+hso/uu8I+84S\n",
       "1zuDmwNYgaa9WH//XBSlItds6yt1gAou9LLNdzIVYc8fGunpsGXSUPsOeMfeaqoxf0e9jUs1kTfy\n",
       "s9y5dLBpfaF7OUvTPIxsf67BpvVP75PnQTTZ5UGvQgENozIU8d4G/SKQfQHl9s67rrTr85o3Ag/z\n",
       "VsAzISOL2EMl8Yo1NQgqjXX4rc3RO0QGyAVXIl/vzv7wfKAk4r57KsArQ8y6VZKPq8dekDrlr2BD\n",
       "GKppyXSTBayMfkALJliwCzcOjSQ0NA4A1z+45ESYs1W98W5Txywix3dGQwWdeH73OrDGa8hD08h8\n",
       "gUhxhTtvyHj2dTYsFSRVZkF/oUnNKQwBCldfHa0UlSA/cEXEd4uwWfdHPf+A2TSH1jOLnd1WbLlc\n",
       "tqIR4ECrejuAwOkgMNJtBIuJmCLHcXR1G91XOyn+l8wA0v3ifuyBan3Kk89g6Jwdl9otOahY9iAi\n",
       "MSYdX//Z/eD3hJhSRfZ4mvuNtvp3Eg4mWiLjU7wu4KuoYNb50JQqWptBMKqMOs34lOIGrTA2FqMv\n",
       "54gjdu0oMhmXuK+N7wHkvsse59qYVIiDERs8nuujzBGv8E2H4WeuU8QbkHoy0VF1SyBp1+ZrbrZ/\n",
       "ZEYkRi2N32g7+GdoOnDuxyhFxiCRDBqqvkVeSqF5hzZaZJC+zxfV8n6U+YecnrdwYjzVcnlo5hma\n",
       "PDb8GZZgjwHYtB0bc6MPogqFmeb7BL6E/TUTnq5LjbjH1T2iekvET+nqWqU0PUbAUT9Bx6EM9PJN\n",
       "JZxZyNfglnkrOFOA61NJfLe+S3/qD7rtPQi5CfJD/A+fBIXhCuumSAz6TmBuGx8Lq96Z/OZK2hQ/\n",
       "eDdwn7ho4v3O8V/gb8rVBdOkJOfIJJj7R9w88gqmfVOUGZvGKpI5K/QIapvttZI9hw6QniXQytSy\n",
       "wrD1r3vY6gcDV2SDoKhNeWx/2jHEtP5GjBjiBsRWpmVNakT38x5rKdcyneHCRaB3gp8y3geot1P2\n",
       "sMpYh+IngTX75bslW8tGDPi7ngzDVfi6c3FMwcGY9kkHzJMWyIIyzHv7Bxh+dSlyIti4pOl9sMfx\n",
       "1gVYOh8e3GwHxSnXflHXlI4NG4nvLW6cNVCr4JAFCYsRh0UIUatye0RF6AL9BUlQJZkpUgcO5/Qd\n",
       "OVNgr9P+CAusqI1DzjAuxL7aFP2B/AcVSa2Bw/iiH/P78JwP2hU60IAb2Twerx7jFdXfr393q1Wi\n",
       "FduQV3gpLI4oN3q6ivDWH07Zeu2Ls3DrMqZsB4NiawFfzE3KobZmNgXRFQbbXNbFAEuknUxqYts1\n",
       "uOFKrKIIWXFqy4EepTl93hyLj7tXas5c7hKxAAACcEGaJGxBD/6qVQAHHe+XgBMP7s/9OP3X4/29\n",
       "FZP5wBBZtoJs0lkN7W8D8l4sAP4636S6SiKbOXhUvvx1/kSTE7qf8PWjTKPKVWOUODwLHRCV62w3\n",
       "EpsFMiHuRgWyLBJ6o2+WfIOZSwF2fY9OQStVZeaqIRsqvaxS4NCKKQQyawA7oLWU76a5K0ev/RU1\n",
       "g+VsJMnPMCwmb4hLD7aOLc5NjfqzFC+/ibg5Dx2vKm5Ulv6teTcBhemgB57QkkTBEDP58EnEt6Do\n",
       "qS2GrELEhCrhhI+6xytN1/k81OiGJz/JZ18R8WpArJKJlW29wrtFXU8f4e6jvOBoZ5X2Daqrz+Fk\n",
       "RNg7zoQt1swp64z52XTYIVrF57VzvyKP3C4kpEPyUaXtM1VjeKFjjWSWV17YD1anbSVJQevTTqyN\n",
       "MH+kmDSc3AcTXjraAHhQxAPs7idd/XLwVLV9n+bpz9D4i/owkH3NBGSEleRLBzLOrerdqAqa4+Y/\n",
       "VJC22px9SOmHhzA5ZmOJgDsyXd4CIOLLdrhzdElV7V+t+AjYwvYsGU8G0KlDnK12rtK0n9kWf9Hr\n",
       "yBfBc3yUNtjE/V3NbG1iK8O5nynaEkUfNFaqJqr4wkE877xIaESuxAf4VvlHt6e14YEhYDmOmuyH\n",
       "ViaqnL6mO0ocJesxOmUu0ehmhBbnhZlOKs/LJJ/rlm01ubGK7oChfXrMzMvk4JHxGtW3RuPIITsw\n",
       "p79IcVJr0E9rsrGviH7p6jZ9v6Oe2v3CQsVYT7JrGy0U6uk8dX6c9df3U1i3vVATOP+zoIQGEQnz\n",
       "1EShfIMzmckxktTEqtmMeq3I2ow8XkZqC7guMAAAAK1BnkJ4h38ADebWLPb87sNrNvesU8I+2/Ic\n",
       "9fAA2ULzCJ+SfCYz5oUlm5F8wNHYTmjAD2EwsV63kTWDPaZ3OqZEN5ETM9HqRCopAjXmKbVrJshE\n",
       "QzzYZUB188xsx3NRbvcduUdpFejBRUqaaM41xw5+AJtxDdfBbuYBr+ERM5nr4OWQ7IgZfAIwSSQk\n",
       "ICkrJA92twRB1/4U6U/AiVjsXTXj0GJsh5WYf18cg+MpgQAAAFIBnmF0Q38AE+O+YU+kW2YAE0Hk\n",
       "kEaAD85GThrUDe1q737CJ25bDtdP+8665JVFxy2aSZkZnQ+Uj3kIZ1yj+39157uCVqamG69SEgP5\n",
       "uSHLUQVrAAAAXgGeY2pDfwAAmtevjkBbIgBMVjBO6hKme0qy79u2kdeHj5Z2vtO/K80RelUsmlZz\n",
       "6K5quFcJ6g1Y89x7Oj3RW2HgFWsoqpqMSx3HjGa/D3vhF5E5owywm6kfM9hqacEAAAC2QZplSahB\n",
       "aJlMCCH//qpVAABvtpfu3/p5gAdCrCNRGAzfHeImZBaXglyVwolFYDaeo34mOADFqtGFYXFr3uNi\n",
       "jDZ9XPhyS7L9G85v5qEXx2F7sTNdhVBo+aNxzoQ93bQufWcmaCWBMmGpkztxf0rWfUcZfcqliS12\n",
       "lS6CyvQUD9L8oAyHEGb5GSnr+QhOTGlXkN9drfz0Qefa2cBPdFDwvBXGC8QEToqJ7wrnOikd9jrL\n",
       "+bbjBKEAAAG5QZqHSeEKUmUwURLBD/6qVQADfbS/vMa/PAC2EecCgFgme08KXQOoEvlGADLX6gqC\n",
       "Yr0EiZzGJ1LH7dU+Z48FeOcCfRKiKt3IR2qs5WIsEfSC6mCpiPglWF8+xupbO4JNtDd4uxBc+Dsg\n",
       "qI59vnJG2LX8A8W/z6UAshqKm+yIlpR/QgE6g+B7+yId5tRQlSs4BcsxGN69zvhy/FPnmIAPnMaZ\n",
       "UtCZ/cbtXr2sG8kR6dBHQoBWquQMtF9S7+TGNAjIAFXVQtBws5l/mjCdsxHx8NhqriJ3/0/9+Sv7\n",
       "QkGElG1NzUQ3b6z87Ehc3+lc8YxUOqu1Yl7lyGXXhb6aI7datYgDy4DviHA7r6O0zEAyGHFbh9Wk\n",
       "a4PmLPU84em6wHMGcQRZdXZECfVQ1y4LcMkShSYMAp4ZKgS148gyiOZGMADWb6APO8P4tdAXnlMQ\n",
       "Beis25Q805WVlqRkPeU/3p8kFCwfKo54/QNct2YBu1BujHncwEmdJd1qpj0vJeMtSg8TRq28Xi9h\n",
       "5KKNcnnbkYMICUg8wwa5Beyyfdnb6QTtPo6BpF4edsRXWkOrR7KPUjfanpqEZJa3BQLHAAAAXAGe\n",
       "pmpDfwAJrXr429qGLty3Q8q+sdientBwmFRk3VmdnlKLZ2zbWHCoGp6Q/VQuA0tnguhNXJAB9oue\n",
       "Unnyz5qE/9RUfd3HCgdjvBXEKNPka+Mkbc8/7a8lhWhBAAAA2EGaqEnhDomUwIIf/qpVAAb7aJwL\n",
       "M+1LrGADm0dacFwZDnCRaqieDfR5F/C4csxY+x+TdOwHJT0TMTGyomvVchzUoQos+5Z+JRnJsp86\n",
       "gZrSot6noz171K4ESLYwuKIYGRoBjWORXjJLk/IG94fLHUtZfJfNmzuokmlGlmgnYMoJzMfQmS9k\n",
       "VRHdlWQjr4/jqouCnYnrH22DuoA8x+J92RQjgO+CXTWZ3cEKxjwKabwUFJkzdVzCTwNywSnYbpbG\n",
       "cb9kIN8SBYkQ5F8XwbXsMmItvBZTmYFVGAAAALZBmslJ4Q8mUwII//61KoAG+2DVZkvL3vAACyZ7\n",
       "0rdcMfpYfRkUJ11VtqocirUdoQ1hGW9/FsWSWTEzKx90u0499j3RwUQW1C36ZEXxkM6wypLL8NB3\n",
       "EKJDUTrKACFwM1My6I/gFSK9U/x1NzIUv8ScQ2o+TdsPNsn5tdPIP9w3E4sWq1yGI1bUdxPbcZYl\n",
       "YDQJktKkeFFhWahf5DrkMLq4XdaMNegWaeFJL9QDvefz7WeLZNvOSgAAAxNBmu1J4Q8mUwIIf/6q\n",
       "VQA8M+//LTuDAAaN8+BnaIlsG2+qNqEeIl9oe5k7VzshmtHNdlPDS7ZcnZidXI1HQ51asSdz24rd\n",
       "L9xGo43kXu6wjY5ywGPErep9f0zQlmC78LYbvIaPwWm/IrgbuhHhnz5ikRrFCoAKQgUaubJ2vBrT\n",
       "jVI6DgVRfWLQ6Kqq0x32Xw3JIFZI/0lGAD6o5Guum0CfwcL5wYE7F1TLbvxr05yGu/TCMz3CP/Sj\n",
       "7tHVgRrL9eMrunwlssFrIovN2yUGZJ6w5jXn/A6ueEMZxPMklsrG9TG/B1nPtwqTf2sMvvu9HU2N\n",
       "sWjah8y1OcErPaNl3JteLtWg+mbLMtFon+e0CDyX43R2NVkJAMO8v0DBg/jrSoT1Qr1KuazQTAlC\n",
       "OaJ27C3PB5JwYaI5GmCRvRX6Zd9ZmlZ+BQFQXjcxngIKqMZCLXIhXKYJjJWqOLlWEeqoYCXVHgvN\n",
       "ilozCiQSmPitgZgWLSQkvvDS5E7q/9MtecviiapzHn8o5e5c+BGZysnwoVMSL7hzfP9EaniWt2oU\n",
       "t5oUTbPUUdXjG4sUtS5yWOdx32EbPZJGBtH9ORdarZiGGPkiyZrNhIEax2eN9yoMtqJW6mgo+ssx\n",
       "KFOi8Bpdj0X5zYIImcAMHvWqm5Kbp2fB8XxR6QdmaZ1ZrBuU1sEnCkrdu8klxrEqlnhQ3cAXv5Rp\n",
       "wRu0K0gztjx6rh3WDekQVvCIY7MIVV53ElnVN559gXWQIDfff+XbGN9TjEt2WyFjpSzP566PyAGT\n",
       "Wv7iU56f66wwwbphMRczujJN48J2IiCTS5sIoQyNnNq4YjWZzaNNMcgqKwAScevVuhl9NjanN5Gy\n",
       "wJEhGuv9/3tXIgGbzoIWQ1JI0RGM9HMh5eFDzL4Civs5kVG6NCuSjzkRs9HQbmRIQBLYc/467rSc\n",
       "nouy7KvdzfzVg2Eps+sYINZa/kkKKIOsByjHxlt8vqQdMvtdXJ2tKqStJbzkPjb8vPpJ9eIVr/4I\n",
       "REnFZJEq6bhwc+5s/X7zk/taQH2VgEkaaRgoxc8tOVaBAAABKEGfC0URPDv/AGlF7/wH/C1KgA+K\n",
       "veI8QFRS+NBRafdFat9RXZTY9lsS2hiRZ+d4JTo+kRDENIfCgwl/vWUcokpKZ1alTgtmQ+01KJzB\n",
       "TMH9xPIBF/2X3NdZrA0YzOcFWZVuFF/4uGQ4aMU4dgRvDNNQTE9SMlPAPGrxOAi6+jScSKwrNj+d\n",
       "/54coIgTNRqkR1zOCKQMaqn3I/V7EiA6db7eXgdYpdMUIY+icaV7UayKKg80Ul+NyWMBpUGcaODf\n",
       "wQ6MoSOBkYbLcTiESWbmOpcNHMrnt/CsINLL/ztupqggQtmHGQIHNSKQZgqYouAG59+Ptrsyyt3g\n",
       "3ngr+DWGbbBqZjUeVDM6c0pToELfeXrTmnk+w6KGc7JAhumOy5jxlzKF7T+4715AAAAAXwGfKnRD\n",
       "fwCbC4ZlNLEe9tFxkAKIMGYxD0mGNrSVU6qCC32GmELNl80gFgS8jXoBABUC3pBWKl//UAGxCXs0\n",
       "blf5MyzpJzYsYH002dR/giew+dCxLh18T61mpX4f/ZigAAAAggGfLGpDfwCXRzJAB+a0AVi76O+V\n",
       "Kn0yJZtanxUIL+A+0E90m2zse9c8UHslqMp5kNfZCYZuoEXvehnO7JMfdgsFUqT1CR63d+5R4sGU\n",
       "fNPO+A+w6zcHYZCLiR4djhtow7HmUEZ4zdiRNAliFIZAbVIN+upBX5MPUAcUVWw1PGP6WUEAAANZ\n",
       "QZswSahBaJlMCCH//qpVADualL7D1MPx1VzoAAXSXg4ZbYGsQ9b0jebH1Lbn4mtZEhgjXzO1PbXJ\n",
       "k8gy//4d1tX0rKBZdTupyqaXxh29P3ugtXUOF94LqFsLkjUktBeuu4fT3xltzTGwgkw5GV2W8tp3\n",
       "eTtspbm1sYhp6+OKMfK6kuXHIc6koX9K0SFIkoFJtKMNe/iobImw0vBb9M1vgf3uXpkt3TAtJ0jb\n",
       "bOO5Cx0SCiNmHrHdtBgJxFzq79JmIEeA4nNT+uzT5nbHUvsS2BkioJqNM+Uefi8zcQDKyOsRg0s5\n",
       "L9MOqfUxXoY6cB61AKK+vMjiPuEyxQaIV4wDe6PFIkOwC3Zn6/AizY+hU1fD0DWh14DYn3NW76aJ\n",
       "DWngxziLQPmNKkGhSmFp+8ndS53SdiO3NfKbbp8ZX7XS9nbShmYF62Uyi2BPgw9u9Y+PIodhoGnM\n",
       "X19jIBEf5uGmEc9IdUc+INgDUDHzSMfUTMDPxPuoRhb2G/AqEa0jkpYyii04QTreSttPhtYoa9fR\n",
       "h+3xmJ9VNXz0KRB0asj231AJhG5zH0ea5nwaeWCL7qIB4OfO880ptUXLF437ZyY+/QHbhZXjKJBB\n",
       "S/EsfWljHuza6FzuoYpXlglE8CC5b91uK1aWLb5LOb9BbHmlPZ1kYrv47f3Wl8AhD6EcY/1eGA7e\n",
       "j+Nw8BFQxrDuVfE6DUVhpXSElH7f5wkSkM0Or9V3tiEW6g08+zyHMXDr42kvR4k1aF3u/u2IJ7ZM\n",
       "nhdPtMYfquEVbRMZajhYdE5Ski59TgPckMAUlyu4fMBz7jLcJJRNzR4ZFt+HHX4XUvvbCU4PvpDj\n",
       "jAr0wmiRBjw7TonyEz1KNmTkdwTRAV6nGzEI3nZH9qVU977DO0uliUCK1CLuiTcpfEaf8+f/H/9E\n",
       "vmD62TF0U6ijgnv0ZLdBfJylu9VuGBn++nUSpSe2kWXK1thkPPSiqZlyJzq5dQv+QvLbTM+FMhAc\n",
       "Ry1jOajz/Wlmitde6K+M9eOwdnfx38bMZq2dLbDaghfc6ZUlGtvNWQzGhQor/j+rB68kHmoZ5Or5\n",
       "eeIoCRnH2ypIgesDlCr9COBMuD0ErFSNXymW/eF7ghtE40vpKE+ZUB4IpsqZ+1KYp5FNdkvVbpRp\n",
       "RZMAAALdQZ9ORREsN/8Ak0Xos/xHuiQAD+jmIl7yAjogYC7RPrAVgVoV9mH5C3SHkC1jlf2l5CVf\n",
       "ed3heqDpJfcZ8JWTxDDqAxqxG51NUPcVMFdysCCbyhUEPFBdH1q8ftxgNsJBezvuhQweOKHaO4/P\n",
       "LzU0hKVJPdS3iKbqgh/yWHzQp3WIiWwadBDanvLG2bnmH8rcYmwjLftOYQLNX8IlWh3xOzfRjxBk\n",
       "zRKAnZCPEgFYPWrhRnD3giJGSfhuyRZBJcN4nHGwjoxz2Nw/1LzhqZcOUOATfolgua8LLPWI0uH3\n",
       "w9j1iKSdgsDjVLXmBPh3goEueK4WwoIhelm6RgiVDSWS6MBtFlzLCdK90HABWHy2w26vSZ0CNROw\n",
       "uIJWyvStEm+eM76FqgKnGDDnUk2GAS2zZZJAEx5I68Ta2xXrZ+BOQNub1a6nH79Rr35oBriTsCWZ\n",
       "H9y/F89FUHhU4bLfvc6vcXbpu/rbF50OWaEOoBehZ/yJ9adKMnSlMoQvxoqpiMmtANVVnElnfCuw\n",
       "cp3zuTzWt/+q54HceMXRypBCbIrhLE6Sd6Si1Nf8jeACFGSRBChNsgiPGC5TpFC0i722GgxYEExb\n",
       "WG7cGfN++8H5TY+VHd31eLH2pkSNw97AiJ/40FYQwu7wTH9FKSxPdY8wvmUjQ+9ypxAs1Gk3Mhuj\n",
       "zHQebkaIHKJEMiOlADInUVdgulxSGfQkDFmsRwv69CGx9FVCIRERwIA4L7Fy15X1kQ3qMqkU39A0\n",
       "yym2O8JPFqsfdZnJeZoSQmp8nrsR2aBAxyMiD/Kr+i9Pt0R4RYXT6Knq8Zvky96yfitu1f9Gu6d1\n",
       "pzdH5TPF2JEsXjNfA9hUSGt44KGkXRF2mdZl1O057hQ16Kq1jP2X8tDYTcJDhQLEnt8d5E0qToa6\n",
       "7Sqe8FWJSrezdMrouIZvP4c57RZZ8yHcYoplFShTUDZhbnr7xOMNiAKApkeR2CT/RCCrMOBXQQAA\n",
       "AJwBn29qQ38BReUOkCpvM+nuG5EACFPea32G/jWe7JHD8/qDCMNmjp4CA0PTpLNu9S4m/w7sKe9x\n",
       "+pctAmAX0H2txPESjQd6YdpZ0/lCp+YvA8SGbppxos3spz2TzjV+7kERhWPRF7jHdNxelt0xaX/f\n",
       "PQF9SrHNkFrx0jUGnWTIE7tJnJbSNM6mZ5T+PWuYYhzVkEISBgIwI1MoPyoAAAGPQZtxSahBbJlM\n",
       "CCH//qpVADSG6hMPx1VxkAAdbuTyobeHqIUNfpZJhtcvpLfO1G5XwSwTHKbGVvTC4WQD/8Ix7TCx\n",
       "MH6OMp5vacO3LFr8l/t3ndCDnTg8wz2FMT7HqklnsHcZ8+SCszPJdLD4+QE4za1yNQgATVV8KxDd\n",
       "ObwU/gLrZei/OPWOWvqu3nLUREGnqGKn3Ck1q525hdgcvFB6GDG57PRU/iFs4FNgc4xvEalBrKQD\n",
       "Z1n96YwfrQ2TdbekV+x/ln3wUR8wgt54Em2pGbEmRCx+pD1k0E2ud7kScO66DDmgqacLXzWgn44T\n",
       "YeWC7XKhgyc7/dDvJkLx5y51aYV33yKXL9NMzYF2KlO1pAZ/twC9NKAXy4uIUvw+BpTn9oRb/85F\n",
       "vXe/CUGvOPnpHMd25uwi13uTFjdJy0WmzVyh4J9J8HDIGpiWlXsArtHQXtw9GqRXA5B5BFK3lTtE\n",
       "wW7HuvpLFfaBtM8C6Skj+ktNDnF9Tubj7cAZ1yZapj8Cygr9156We5+wrGR0934JAAACxUGblEnh\n",
       "ClJlMCH//qmWAMLjzIMXvF/9xpjKYAOtwOPTkJfNgHVhAU3tDclXrkHtnA+ezGOp5ucwLVfQrm1W\n",
       "0gdxDSK+xR15IYORUV1CTz6xJpDsO7UBCFSNJcGAEbyg4WpSektI/R8TF6x8ldv0qE/IeFvqfCnE\n",
       "w0ORWxcJuC158yDh/BNHH4+EhIKGz9+TjRoh+6W7Uff4S3EPKS/Xlq7dw3U5ik803k6a8iIi27us\n",
       "vPfZ32cY9gMomRnw8D3rKgfQOH0ohvT80zqmm3unUH0BMr9/oTFpff9bQumxGIzHM6v2My2J4Pek\n",
       "DGUuN1sSEzef7Jm9uYCPkJrk0LWQ7YUHKoT0S2Hdv3jPLv91nuGb3Nn5/L82jVklFTM1NwCdpHp7\n",
       "yuXYJg8Z9at+BTK6BLIqpRVe13Za9RWa5voYAN5RbF8j4Thzc6R86onGawQxIVnnm8JtDoJW1iBv\n",
       "sUutVFryHNOV5kG3BTsjRMAWJ3fmcW1AmaLIAzvKX5nenV6dF0Z1P8QQsWdsjBuqPSikb5mN6gvv\n",
       "SB1U3O012QpFAruVdWMYqf0sc9setifvx/kbwaNccC0nFgsdq/vIsQzJUJeW6CkPrLlJxvZVgEcG\n",
       "rLulKRKOEo229vXvAf7E3DALqWYNeEp2WHGEWyrHRMHlz3CUp9dSwF9ZQZHm2bT29smDFVNnekla\n",
       "cFlbPEGStIBGGiY+IWrkIC170Rotuyf982TtzsRUbZ/1e2vPkclLIgqlSngc4M3C2O7YI1Vgx114\n",
       "7AkcoUjfh4tXi46eCmYlTPZJ0bJkNNkCJz4szDsoABF7R7uaOhjUKWys/DxcKXCr1L6HaRob10BU\n",
       "JVDd6N2g5IJ/ohnbRNfpBz7fVzpKo+nIKWYkTp6PX1gC2jSfveGMYy9ISxGwSfIXuTf5ecdWTS3B\n",
       "K2KsQoMRgSrsfSAn+C/4z+mdIzkAAADVQZ+yRTRMN/8BRgxiOF8qft8p4DcAJlBkIErDIVb1bu8U\n",
       "OQ95WTdq7DxEkSm3b/4eW8Vj0n9DOglAuZZvz9q4b5Tibqx67HVm5/Oh46sDyWwuHpvdd6/g1CV5\n",
       "o/S3VtaiU0+HBx+oAz4zF3eiEWVv0quZ6cc/Rmgz+WCgyfZ+T479alczoD2mHs1YtnuD1N/JKIe8\n",
       "VY6MiyS5iPLdtbh0Cc32NFLEuPw2WsSxX6hU5omEKqSZf+F4+nPtCAZKHNCVUHH9PCKE0CRDzAdi\n",
       "6idwVVbaeQowAAAAhgGf02pDfwFF5fHucuceboIZevABNEVAiVIl7olbCGyKHVoTctnmj9r40l1n\n",
       "SYFMDUMc4DrXBUuQwvjoB4eSrMiveoHRCYE90VZHBZO19S+4RMtaF9uh4wv3J7nHRP3XPevmxx4a\n",
       "ICHRTtAdx8j6i8C/mseyXiHd0Gr9vRpQ6DR743MFf02kAAAC4kGb1kmoQWiZTBTw//6plgCwtTD2\n",
       "CQ/NY7OWAD8corHFGL5fUUEeS9hAU3uYfIMz16WJ6p0CG5P67JezfKLUBZ2VaDNkuNgI3zlBTmoP\n",
       "1HOhUygX1KLIrtgGTsTCLwp443GFdXcEuNUU/83aQ8zhalA5elaeH6TthSUFXBUJkeAwS95hwN7g\n",
       "MqnCLkI+BFRHJl45PV7Dl1DRD84jattOFLeS1dTJ4kagHGqmBvtFXsFtnw8THg7/cA6LbWgBHgAB\n",
       "UH0r+y5BTd8yT+m9PYJW1Gr/y8TTg7QEN9waPkPiNVX6ljHhlWj7hHmXTvvzGqWAjqHAuvAVBJ8x\n",
       "HS6ARAm9O05TSx+/s4I7kSCAiA9Nnv7b8Vo7GMHFI64gyYo8SXN6pTWUntOgBbiCGHWmuF4iq30Z\n",
       "da2K52plBFja/Zcr9ItyMgcU6v0n9F7PNrFdguueGF2CGB40pmCULIAJUaVt+68yHGlIt7wID1Nw\n",
       "oEDci3FWqPaJF+tu9R3CZTrmIH/pdhPLTWeC7srzi6RXl7nQYacJtdE47tVjKGeYosv1+nrj3iJK\n",
       "E8IE2xC4G2UeB612Z6KxG1eAZJt03CtGH0paI1Me7IGzFXgzqSUdLL6t4jSRMMMi4ud4fRtlH/G4\n",
       "nodS7Q0ZUtn8BYTVFcOgNLEiWptz+00lrnePwWbxc90kO1JyWTGFnrC2PHesL1GGizHS9R7W1gbz\n",
       "PzXsowxvPDDX6ME4qcwB6i74o/+lOL1lqqzI7Qs12viQucDsa8UnYYZh9RhsvHpi1MiRXefMMjiA\n",
       "AUjv+p25lOIwV1oj8eG9D3cssOWWTPK0kQvjsbJS8mlrdQMM0qWbGlzvUo4EswOuXPt0LM4Ppzcc\n",
       "Pk0MGZOPX+psZ5pFv/AS0E4UD26j2vAwuKcPdc3dbZWxJmxg6acR/UYW3BRjj02lXNq44OfcjMze\n",
       "MVwp5mGTVoPWGlNdCIJaxuh7MH2Jt3e0InA+PTtMRdjKkwAAAGgBn/VqQ38BRi6yOX938xCpua85\n",
       "kbzaVnEiIDzBEjG8hSzRrQhGGDhBxV70BIFmqzsl2UWDSdXXRACauCSB71gJdGKwD7NT3umqPFl/\n",
       "rNu6QoGA4k1W9V3I7BnvUOWv9lYIstzIKxVDKAAAAnFBm/hJ4QpSZTBSw3/+p4QGV2VDEZSuZtQ7\n",
       "yeZ/CcDL4Aj5CL/dsIlF5abOCOj/SFV6kRqvmhEYo/l4o7KVn3yCwASb6zak87vRaWYGnnki6BOF\n",
       "4ZOS2HDvZNFrul3PTMMzaiywBxJxdzaZuDuiZRemF0/UaYHmcHBcSUgvTwUuixd0Ojz2jYLwq9n1\n",
       "qZ0/KKEo/4a/dImOkWguM1gUS42Lt9ksG3FpnyLeYUsvYvUEq0xm4bSWKAN3KnC/ZRr9cMbCPOW8\n",
       "964CBTo/xelg21nA/TcUgZ01Cr0pnCdCZmOeDJqN/5oKv+nQ2bAsEvJ0v9heKWAJuOq2l+Zl9Eb+\n",
       "sAadjd1f/rVGsySUts0c8V+oF1LDkGmZEKju9epcVecivkOHEfhR3oSXJT5edhlOejdMv0k4cyyx\n",
       "Xh9/d6rE6TESE+n/nE+l81ZIe2VlzuHMWa5kTWfPEIx8e2s+d1M4wXulmMyExF2DnUA0rrq/BeY2\n",
       "/dwcE8jydbvW/TuGJjwXacOFQnctMLoT2L5eQPM9/gJLbN4fRqRe3wmKaO4D94BeiZdah/h5NqlT\n",
       "VF0rAC96Xc2BHMbyg1fQzfn/MYQjLzkaDO8nL0hE72eZn/qZjuCfkbqfa1YvcHTUA3V/PrexuNp7\n",
       "AYChvnQxvwv/l96aCiIfZW/zR58A9/WfyvjofCG99hqRc8KvmP2Y1EudjnSKtBzUS6ttGvVz2Amj\n",
       "LMMYm0AxsjpHQ6jS4oQVGgAmtzAnWJYUKUiDboGQeuj8apQ7vpSNIRgSmnbDGda+HKJYRdBUm10Z\n",
       "YZ9SjldZS1fI7PGEYtxu5oD/7fmDlWXDNXdtOJoRAAAAegGeF2pDfwBzuttykEMgA+JsrPeCazSE\n",
       "TlRTVxy6ROzHJfpHgi3muDfbhKb2S1B9eAGiWwgOr9YZ2y3Af6RAFt/xbP1zzUU3Yq7xfaC8jTU5\n",
       "RbP9/GmNCUrA55fV0kA4a+oPHpVC1/A4anKLoY8S31C6oX3G9NLjSgknAAAEQm1vb3YAAABsbXZo\n",
       "ZAAAAAAAAAAAAAAAAAAAA+gAAAnEAAEAAAEAAAAAAAAAAAAAAAABAAAAAAAAAAAAAAAAAAAAAQAA\n",
       "AAAAAAAAAAAAAAAAQAAAAAAAAAAAAAAAAAAAAAAAAAAAAAAAAAAAAAAAAAIAAANsdHJhawAAAFx0\n",
       "a2hkAAAAAwAAAAAAAAAAAAAAAQAAAAAAAAnEAAAAAAAAAAAAAAAAAAAAAAABAAAAAAAAAAAAAAAA\n",
       "AAAAAQAAAAAAAAAAAAAAAAAAQAAAAAGwAAABIAAAAAAAJGVkdHMAAAAcZWxzdAAAAAAAAAABAAAJ\n",
       "xAAACAAAAQAAAAAC5G1kaWEAAAAgbWRoZAAAAAAAAAAAAAAAAAAAKAAAAGQAVcQAAAAAAC1oZGxy\n",
       "AAAAAAAAAAB2aWRlAAAAAAAAAAAAAAAAVmlkZW9IYW5kbGVyAAAAAo9taW5mAAAAFHZtaGQAAAAB\n",
       "AAAAAAAAAAAAAAAkZGluZgAAABxkcmVmAAAAAAAAAAEAAAAMdXJsIAAAAAEAAAJPc3RibAAAALNz\n",
       "dHNkAAAAAAAAAAEAAACjYXZjMQAAAAAAAAABAAAAAAAAAAAAAAAAAAAAAAGwASAASAAAAEgAAAAA\n",
       "AAAAAQAAAAAAAAAAAAAAAAAAAAAAAAAAAAAAAAAAAAAAAAAAABj//wAAADFhdmNDAWQAFf/hABhn\n",
       "ZAAVrNlBsJaEAAADAAQAAAMAUDxYtlgBAAZo6+PLIsAAAAAcdXVpZGtoQPJfJE/FujmlG88DI/MA\n",
       "AAAAAAAAGHN0dHMAAAAAAAAAAQAAABkAAAQAAAAAFHN0c3MAAAAAAAAAAQAAAAEAAADAY3R0cwAA\n",
       "AAAAAAAWAAAAAQAACAAAAAABAAAUAAAAAAEAAAgAAAAAAQAAAAAAAAABAAAEAAAAAAEAAAgAAAAA\n",
       "AQAADAAAAAABAAAEAAAAAAIAAAgAAAAAAQAAFAAAAAABAAAIAAAAAAEAAAAAAAAAAQAABAAAAAAB\n",
       "AAAQAAAAAAIAAAQAAAAAAQAACAAAAAABAAAQAAAAAAIAAAQAAAAAAQAADAAAAAABAAAEAAAAAAEA\n",
       "AAwAAAAAAQAABAAAAAAcc3RzYwAAAAAAAAABAAAAAQAAABkAAAABAAAAeHN0c3oAAAAAAAAAAAAA\n",
       "ABkAAA5oAAACdAAAALEAAABWAAAAYgAAALoAAAG9AAAAYAAAANwAAAC6AAADFwAAASwAAABjAAAA\n",
       "hgAAA10AAALhAAAAoAAAAZMAAALJAAAA2QAAAIoAAALmAAAAbAAAAnUAAAB+AAAAFHN0Y28AAAAA\n",
       "AAAAAQAAACwAAABidWR0YQAAAFptZXRhAAAAAAAAACFoZGxyAAAAAAAAAABtZGlyYXBwbAAAAAAA\n",
       "AAAAAAAAAC1pbHN0AAAAJal0b28AAAAdZGF0YQAAAAEAAAAATGF2ZjU3LjU2LjEwMQ==\n",
       "\">\n",
       "  Your browser does not support the video tag.\n",
       "</video>"
      ],
      "text/plain": [
       "<matplotlib.animation.FuncAnimation at 0x11408e750>"
      ]
     },
     "execution_count": 11,
     "metadata": {},
     "output_type": "execute_result"
    }
   ],
   "source": [
    "plotTrajectoriesFile('DelayParticle_array.nc', mode='movie2d_notebook')"
   ]
  }
 ],
 "metadata": {
  "kernelspec": {
   "display_name": "Python 2",
   "language": "python",
   "name": "python2"
  },
  "language_info": {
   "codemirror_mode": {
    "name": "ipython",
    "version": 2
   },
   "file_extension": ".py",
   "mimetype": "text/x-python",
   "name": "python",
   "nbconvert_exporter": "python",
   "pygments_lexer": "ipython2",
   "version": "2.7.13"
  }
 },
 "nbformat": 4,
 "nbformat_minor": 1
}
