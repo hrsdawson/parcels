{
 "cells": [
  {
   "cell_type": "markdown",
   "metadata": {},
   "source": [
    "## Tutorial on how to use Parcels on NEMO curvilinear grids"
   ]
  },
  {
   "cell_type": "markdown",
   "metadata": {},
   "source": [
    "Parcels also supports [curvilinear grids](https://www.nemo-ocean.eu/doc/node108.html) such as those used in the [NEMO models](https://www.nemo-ocean.eu/).\n",
    "\n",
    "However, there is one important additional step that needs to be taken before running Parcels on these curvilear grids: create a file of the 'angles' between the grid direction and the zonal (and meridional) direction. This tutorial explains how to do just that.\n",
    "\n",
    "We will be using the example data in the `NemoCurvilinear_data/` directory. These fiels are a purely zonal flow on an aqua-planet (so zonal-velocity is 1 m/s and meridional-velocity is 0 m/s everywhere, and no land). However, because of the curvilinear grid, the `U` and `V` fields vary north of 26N.\n",
    "\n",
    "First, import the usual modules, as well as the `compute_curvilinearGrid_rotationAngles` module. "
   ]
  },
  {
   "cell_type": "code",
   "execution_count": 1,
   "metadata": {},
   "outputs": [],
   "source": [
    "from parcels import FieldSet, ParticleSet, JITParticle, ParticleFile, plotTrajectoriesFile\n",
    "from parcels import compute_curvilinearGrid_rotationAngles\n",
    "from parcels import AdvectionRK4\n",
    "import numpy as np\n",
    "from datetime import timedelta as delta"
   ]
  },
  {
   "cell_type": "markdown",
   "metadata": {},
   "source": [
    "Now the first step is to create a new NetCDF file with these angle fields, based on the `mesh_mask.nc4` file:"
   ]
  },
  {
   "cell_type": "code",
   "execution_count": 2,
   "metadata": {},
   "outputs": [
    {
     "name": "stderr",
     "output_type": "stream",
     "text": [
      "INFO: Generating rotation angles fields in file: NemoCurvilinear_data/rotation_angles.nc\n"
     ]
    }
   ],
   "source": [
    "mesh_filename = 'NemoCurvilinear_data/mesh_mask.nc4'\n",
    "rotation_angles_filename = 'NemoCurvilinear_data/rotation_angles.nc'\n",
    "compute_curvilinearGrid_rotationAngles(mesh_filename, rotation_angles_filename)"
   ]
  },
  {
   "cell_type": "markdown",
   "metadata": {},
   "source": [
    "Note that the `compute_curvilinearGrid_rotationangles()` function assumes some default values for the dimensions of `U`, `V` and `F`. If your mesh_file has different dimensions, you can set these with a dictionary such as the default one below, and add that as `dimensions=dimensions` to the call of `compute_curvilinearGrid_rotationangles()`."
   ]
  },
  {
   "cell_type": "code",
   "execution_count": 3,
   "metadata": {},
   "outputs": [],
   "source": [
    "dimensions = {'U': {'lon': 'glamu', 'lat': 'gphiu'},\n",
    "              'V': {'lon': 'glamv', 'lat': 'gphiv'},\n",
    "              'F': {'lon': 'glamf', 'lat': 'gphif'}}"
   ]
  },
  {
   "cell_type": "markdown",
   "metadata": {},
   "source": [
    "Now, we can create a `FieldSet` just like we do for normal grids. Note that we need to provide extra variables for the rotation angles fields that we just computed"
   ]
  },
  {
   "cell_type": "code",
   "execution_count": 4,
   "metadata": {},
   "outputs": [
    {
     "name": "stderr",
     "output_type": "stream",
     "text": [
      "WARNING: Casting lon data to np.float32\n",
      "WARNING: Casting lat data to np.float32\n",
      "WARNING: Casting time data to np.float64\n",
      "WARNING: Casting depth data to np.float32\n"
     ]
    }
   ],
   "source": [
    "filenames = {'U': 'NemoCurvilinear_data/U_purely_zonal-ORCA025_grid_U.nc4',\n",
    "             'V': 'NemoCurvilinear_data/V_purely_zonal-ORCA025_grid_V.nc4',\n",
    "             'cosU': rotation_angles_filename,\n",
    "             'sinU': rotation_angles_filename,\n",
    "             'cosV': rotation_angles_filename,\n",
    "             'sinV': rotation_angles_filename}\n",
    "variables = {'U': 'U',\n",
    "             'V': 'V',\n",
    "             'cosU': 'cosU',\n",
    "             'sinU': 'sinU',\n",
    "             'cosV': 'cosV',\n",
    "             'sinV': 'sinV'}\n",
    "dimensions = {'U': {'lon': 'nav_lon_u', 'lat': 'nav_lat_u'},\n",
    "              'V': {'lon': 'nav_lon_v', 'lat': 'nav_lat_v'},\n",
    "              'cosU': {'lon': 'glamu', 'lat': 'gphiu'},\n",
    "              'sinU': {'lon': 'glamu', 'lat': 'gphiu'},\n",
    "              'cosV': {'lon': 'glamv', 'lat': 'gphiv'},\n",
    "              'sinV': {'lon': 'glamv', 'lat': 'gphiv'}}\n",
    "field_set = FieldSet.from_netcdf(filenames, variables, dimensions, mesh='spherical', allow_time_extrapolation=True)"
   ]
  },
  {
   "cell_type": "markdown",
   "metadata": {},
   "source": [
    "And we can plot the `U` field. Note that we need to rescale the `grid.lon` so that it is monotonic (needed for plotting purposes only; Parcels itself can handle non-monotonic grids)"
   ]
  },
  {
   "cell_type": "code",
   "execution_count": 5,
   "metadata": {},
   "outputs": [
    {
     "data": {
      "image/png": "[encoded data removed]",
      "text/plain": [
       "<matplotlib.figure.Figure at 0x113ea1e10>"
      ]
     },
     "metadata": {},
     "output_type": "display_data"
    }
   ],
   "source": [
    "field_set.U.grid.lon[field_set.U.grid.lon<73] += 360\n",
    "field_set.U.show()"
   ]
  },
  {
   "cell_type": "markdown",
   "metadata": {},
   "source": [
    "As you see above, the `U` field indeed is 1 m/s south of 50N, but varies with longitude and latitude north of that\n",
    "\n",
    "Now we can run particles as normal. Parcels will take care to rotate the `U` and `V` fields"
   ]
  },
  {
   "cell_type": "code",
   "execution_count": 6,
   "metadata": {},
   "outputs": [
    {
     "name": "stderr",
     "output_type": "stream",
     "text": [
      "INFO: Compiled JITParticleAdvectionRK4periodicBC ==> /var/folders/h0/01fvrmn11qb62yjw7v1kn62r0000gq/T/parcels-503/c77947732f5b8acf06a97ad5cd7c1995.so\n"
     ]
    }
   ],
   "source": [
    "# Start 20 particles on a meridional line at 30E\n",
    "npart = 20\n",
    "lonp = 30 * np.ones(npart)\n",
    "latp = [i for i in np.linspace(-70, 88, npart)]\n",
    "\n",
    "# Create a periodic boundary condition kernel\n",
    "def periodicBC(particle, pieldSet, time, dt):\n",
    "    if particle.lon > 180:\n",
    "        particle.lon -= 360\n",
    "\n",
    "pset = ParticleSet.from_list(field_set, JITParticle, lon=lonp, lat=latp)\n",
    "pfile = ParticleFile(\"nemo_particles\", pset)\n",
    "kernels = pset.Kernel(AdvectionRK4) + periodicBC\n",
    "pset.execute(kernels, runtime=delta(days=50), dt=delta(hours=6),\n",
    "             interval=delta(days=1), output_file=pfile)"
   ]
  },
  {
   "cell_type": "markdown",
   "metadata": {},
   "source": [
    "And then we can plot these trajectories. As expected, all trajectories go exactly zonal and due to the curvature of the earth, ones at higher latitude move more degrees eastward (even though the distance in km is equal for all particles)"
   ]
  },
  {
   "cell_type": "code",
   "execution_count": 7,
   "metadata": {},
   "outputs": [
    {
     "data": {
      "image/png": "[encoded data removed]",
      "text/plain": [
       "<matplotlib.figure.Figure at 0x11d681690>"
      ]
     },
     "metadata": {},
     "output_type": "display_data"
    },
    {
     "data": {
      "text/plain": [
      ]
     },
     "execution_count": 7,
     "metadata": {},
     "output_type": "execute_result"
    }
   ],
   "source": [
    "plotTrajectoriesFile(\"nemo_particles.nc\")"
   ]
  }
 ],
 "metadata": {
  "kernelspec": {
   "display_name": "Python 2",
   "language": "python",
   "name": "python2"
  },
  "language_info": {
   "codemirror_mode": {
    "name": "ipython",
    "version": 2
   },
   "file_extension": ".py",
   "mimetype": "text/x-python",
   "name": "python",
   "nbconvert_exporter": "python",
   "pygments_lexer": "ipython2",
   "version": "2.7.14"
  }
 },
 "nbformat": 4,
 "nbformat_minor": 1
}
